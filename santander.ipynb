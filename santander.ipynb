{
 "cells": [
  {
   "cell_type": "code",
   "execution_count": null,
   "metadata": {},
   "outputs": [],
   "source": [
    "# https://www.kaggle.com/c/santander-product-recommendation/overview"
   ]
  },
  {
   "cell_type": "code",
   "execution_count": 1,
   "metadata": {
    "ExecuteTime": {
     "end_time": "2020-07-10T01:54:12.983729Z",
     "start_time": "2020-07-10T01:54:12.318008Z"
    }
   },
   "outputs": [],
   "source": [
    "import pandas as pd\n",
    "import numpy as np\n",
    "from datetime import datetime, timedelta\n",
    "\n",
    "import matplotlib.pyplot as plt\n",
    "import seaborn as sns"
   ]
  },
  {
   "cell_type": "code",
   "execution_count": 2,
   "metadata": {
    "ExecuteTime": {
     "end_time": "2020-07-10T01:54:43.998010Z",
     "start_time": "2020-07-10T01:54:12.991682Z"
    }
   },
   "outputs": [
    {
     "name": "stderr",
     "output_type": "stream",
     "text": [
      "c:\\users\\administrator\\basic\\lib\\site-packages\\IPython\\core\\interactiveshell.py:3063: DtypeWarning: Columns (5,8,11,15) have mixed types.Specify dtype option on import or set low_memory=False.\n",
      "  interactivity=interactivity, compiler=compiler, result=result)\n",
      "c:\\users\\administrator\\basic\\lib\\site-packages\\IPython\\core\\interactiveshell.py:3063: DtypeWarning: Columns (15) have mixed types.Specify dtype option on import or set low_memory=False.\n",
      "  interactivity=interactivity, compiler=compiler, result=result)\n"
     ]
    }
   ],
   "source": [
    "train = pd.read_csv(\"./train.csv\")\n",
    "test = pd.read_csv(\"./test.csv\")\n",
    "sample_submission = pd.read_csv(\"./sample_submission.csv\")"
   ]
  },
  {
   "cell_type": "code",
   "execution_count": 3,
   "metadata": {
    "ExecuteTime": {
     "end_time": "2020-07-10T01:54:49.396572Z",
     "start_time": "2020-07-10T01:54:49.388593Z"
    }
   },
   "outputs": [
    {
     "data": {
      "text/html": [
       "<div>\n",
       "<style scoped>\n",
       "    .dataframe tbody tr th:only-of-type {\n",
       "        vertical-align: middle;\n",
       "    }\n",
       "\n",
       "    .dataframe tbody tr th {\n",
       "        vertical-align: top;\n",
       "    }\n",
       "\n",
       "    .dataframe thead th {\n",
       "        text-align: right;\n",
       "    }\n",
       "</style>\n",
       "<table border=\"1\" class=\"dataframe\">\n",
       "  <thead>\n",
       "    <tr style=\"text-align: right;\">\n",
       "      <th></th>\n",
       "      <th>ncodpers</th>\n",
       "      <th>added_products</th>\n",
       "    </tr>\n",
       "  </thead>\n",
       "  <tbody>\n",
       "    <tr>\n",
       "      <th>929610</th>\n",
       "      <td>1553685</td>\n",
       "      <td>ind_tjcr_fin_ult1</td>\n",
       "    </tr>\n",
       "    <tr>\n",
       "      <th>929611</th>\n",
       "      <td>1553686</td>\n",
       "      <td>ind_tjcr_fin_ult1</td>\n",
       "    </tr>\n",
       "    <tr>\n",
       "      <th>929612</th>\n",
       "      <td>1553687</td>\n",
       "      <td>ind_tjcr_fin_ult1</td>\n",
       "    </tr>\n",
       "    <tr>\n",
       "      <th>929613</th>\n",
       "      <td>1553688</td>\n",
       "      <td>ind_tjcr_fin_ult1</td>\n",
       "    </tr>\n",
       "    <tr>\n",
       "      <th>929614</th>\n",
       "      <td>1553689</td>\n",
       "      <td>ind_tjcr_fin_ult1</td>\n",
       "    </tr>\n",
       "  </tbody>\n",
       "</table>\n",
       "</div>"
      ],
      "text/plain": [
       "        ncodpers     added_products\n",
       "929610   1553685  ind_tjcr_fin_ult1\n",
       "929611   1553686  ind_tjcr_fin_ult1\n",
       "929612   1553687  ind_tjcr_fin_ult1\n",
       "929613   1553688  ind_tjcr_fin_ult1\n",
       "929614   1553689  ind_tjcr_fin_ult1"
      ]
     },
     "execution_count": 3,
     "metadata": {},
     "output_type": "execute_result"
    }
   ],
   "source": [
    "sample_submission.tail()"
   ]
  },
  {
   "cell_type": "code",
   "execution_count": 4,
   "metadata": {
    "ExecuteTime": {
     "end_time": "2020-07-10T01:54:54.852013Z",
     "start_time": "2020-07-10T01:54:54.837025Z"
    }
   },
   "outputs": [
    {
     "data": {
      "text/html": [
       "<div>\n",
       "<style scoped>\n",
       "    .dataframe tbody tr th:only-of-type {\n",
       "        vertical-align: middle;\n",
       "    }\n",
       "\n",
       "    .dataframe tbody tr th {\n",
       "        vertical-align: top;\n",
       "    }\n",
       "\n",
       "    .dataframe thead th {\n",
       "        text-align: right;\n",
       "    }\n",
       "</style>\n",
       "<table border=\"1\" class=\"dataframe\">\n",
       "  <thead>\n",
       "    <tr style=\"text-align: right;\">\n",
       "      <th></th>\n",
       "      <th>fecha_dato</th>\n",
       "      <th>ncodpers</th>\n",
       "      <th>ind_empleado</th>\n",
       "      <th>pais_residencia</th>\n",
       "      <th>sexo</th>\n",
       "      <th>age</th>\n",
       "      <th>fecha_alta</th>\n",
       "      <th>ind_nuevo</th>\n",
       "      <th>antiguedad</th>\n",
       "      <th>indrel</th>\n",
       "      <th>...</th>\n",
       "      <th>ind_hip_fin_ult1</th>\n",
       "      <th>ind_plan_fin_ult1</th>\n",
       "      <th>ind_pres_fin_ult1</th>\n",
       "      <th>ind_reca_fin_ult1</th>\n",
       "      <th>ind_tjcr_fin_ult1</th>\n",
       "      <th>ind_valo_fin_ult1</th>\n",
       "      <th>ind_viv_fin_ult1</th>\n",
       "      <th>ind_nomina_ult1</th>\n",
       "      <th>ind_nom_pens_ult1</th>\n",
       "      <th>ind_recibo_ult1</th>\n",
       "    </tr>\n",
       "  </thead>\n",
       "  <tbody>\n",
       "    <tr>\n",
       "      <th>13647304</th>\n",
       "      <td>2016-05-28</td>\n",
       "      <td>1166765</td>\n",
       "      <td>N</td>\n",
       "      <td>ES</td>\n",
       "      <td>V</td>\n",
       "      <td>22</td>\n",
       "      <td>2013-08-14</td>\n",
       "      <td>0.0</td>\n",
       "      <td>33</td>\n",
       "      <td>1.0</td>\n",
       "      <td>...</td>\n",
       "      <td>0</td>\n",
       "      <td>0</td>\n",
       "      <td>0</td>\n",
       "      <td>0</td>\n",
       "      <td>0</td>\n",
       "      <td>0</td>\n",
       "      <td>0</td>\n",
       "      <td>0.0</td>\n",
       "      <td>0.0</td>\n",
       "      <td>0</td>\n",
       "    </tr>\n",
       "    <tr>\n",
       "      <th>13647305</th>\n",
       "      <td>2016-05-28</td>\n",
       "      <td>1166764</td>\n",
       "      <td>N</td>\n",
       "      <td>ES</td>\n",
       "      <td>V</td>\n",
       "      <td>23</td>\n",
       "      <td>2013-08-14</td>\n",
       "      <td>0.0</td>\n",
       "      <td>33</td>\n",
       "      <td>1.0</td>\n",
       "      <td>...</td>\n",
       "      <td>0</td>\n",
       "      <td>0</td>\n",
       "      <td>0</td>\n",
       "      <td>0</td>\n",
       "      <td>0</td>\n",
       "      <td>0</td>\n",
       "      <td>0</td>\n",
       "      <td>0.0</td>\n",
       "      <td>0.0</td>\n",
       "      <td>0</td>\n",
       "    </tr>\n",
       "    <tr>\n",
       "      <th>13647306</th>\n",
       "      <td>2016-05-28</td>\n",
       "      <td>1166763</td>\n",
       "      <td>N</td>\n",
       "      <td>ES</td>\n",
       "      <td>H</td>\n",
       "      <td>47</td>\n",
       "      <td>2013-08-14</td>\n",
       "      <td>0.0</td>\n",
       "      <td>33</td>\n",
       "      <td>1.0</td>\n",
       "      <td>...</td>\n",
       "      <td>0</td>\n",
       "      <td>0</td>\n",
       "      <td>0</td>\n",
       "      <td>0</td>\n",
       "      <td>0</td>\n",
       "      <td>0</td>\n",
       "      <td>0</td>\n",
       "      <td>0.0</td>\n",
       "      <td>0.0</td>\n",
       "      <td>0</td>\n",
       "    </tr>\n",
       "    <tr>\n",
       "      <th>13647307</th>\n",
       "      <td>2016-05-28</td>\n",
       "      <td>1166789</td>\n",
       "      <td>N</td>\n",
       "      <td>ES</td>\n",
       "      <td>H</td>\n",
       "      <td>22</td>\n",
       "      <td>2013-08-14</td>\n",
       "      <td>0.0</td>\n",
       "      <td>33</td>\n",
       "      <td>1.0</td>\n",
       "      <td>...</td>\n",
       "      <td>0</td>\n",
       "      <td>0</td>\n",
       "      <td>0</td>\n",
       "      <td>0</td>\n",
       "      <td>0</td>\n",
       "      <td>0</td>\n",
       "      <td>0</td>\n",
       "      <td>0.0</td>\n",
       "      <td>0.0</td>\n",
       "      <td>0</td>\n",
       "    </tr>\n",
       "    <tr>\n",
       "      <th>13647308</th>\n",
       "      <td>2016-05-28</td>\n",
       "      <td>1550586</td>\n",
       "      <td>N</td>\n",
       "      <td>ES</td>\n",
       "      <td>H</td>\n",
       "      <td>37</td>\n",
       "      <td>2016-05-13</td>\n",
       "      <td>1.0</td>\n",
       "      <td>0</td>\n",
       "      <td>1.0</td>\n",
       "      <td>...</td>\n",
       "      <td>0</td>\n",
       "      <td>0</td>\n",
       "      <td>0</td>\n",
       "      <td>0</td>\n",
       "      <td>0</td>\n",
       "      <td>0</td>\n",
       "      <td>0</td>\n",
       "      <td>0.0</td>\n",
       "      <td>0.0</td>\n",
       "      <td>0</td>\n",
       "    </tr>\n",
       "  </tbody>\n",
       "</table>\n",
       "<p>5 rows × 48 columns</p>\n",
       "</div>"
      ],
      "text/plain": [
       "          fecha_dato  ncodpers ind_empleado pais_residencia sexo age  \\\n",
       "13647304  2016-05-28   1166765            N              ES    V  22   \n",
       "13647305  2016-05-28   1166764            N              ES    V  23   \n",
       "13647306  2016-05-28   1166763            N              ES    H  47   \n",
       "13647307  2016-05-28   1166789            N              ES    H  22   \n",
       "13647308  2016-05-28   1550586            N              ES    H  37   \n",
       "\n",
       "          fecha_alta  ind_nuevo antiguedad  indrel  ... ind_hip_fin_ult1  \\\n",
       "13647304  2013-08-14        0.0         33     1.0  ...                0   \n",
       "13647305  2013-08-14        0.0         33     1.0  ...                0   \n",
       "13647306  2013-08-14        0.0         33     1.0  ...                0   \n",
       "13647307  2013-08-14        0.0         33     1.0  ...                0   \n",
       "13647308  2016-05-13        1.0          0     1.0  ...                0   \n",
       "\n",
       "         ind_plan_fin_ult1 ind_pres_fin_ult1 ind_reca_fin_ult1  \\\n",
       "13647304                 0                 0                 0   \n",
       "13647305                 0                 0                 0   \n",
       "13647306                 0                 0                 0   \n",
       "13647307                 0                 0                 0   \n",
       "13647308                 0                 0                 0   \n",
       "\n",
       "         ind_tjcr_fin_ult1 ind_valo_fin_ult1 ind_viv_fin_ult1 ind_nomina_ult1  \\\n",
       "13647304                 0                 0                0             0.0   \n",
       "13647305                 0                 0                0             0.0   \n",
       "13647306                 0                 0                0             0.0   \n",
       "13647307                 0                 0                0             0.0   \n",
       "13647308                 0                 0                0             0.0   \n",
       "\n",
       "          ind_nom_pens_ult1  ind_recibo_ult1  \n",
       "13647304                0.0                0  \n",
       "13647305                0.0                0  \n",
       "13647306                0.0                0  \n",
       "13647307                0.0                0  \n",
       "13647308                0.0                0  \n",
       "\n",
       "[5 rows x 48 columns]"
      ]
     },
     "execution_count": 4,
     "metadata": {},
     "output_type": "execute_result"
    }
   ],
   "source": [
    "train.tail()"
   ]
  },
  {
   "cell_type": "code",
   "execution_count": 5,
   "metadata": {
    "ExecuteTime": {
     "end_time": "2020-07-10T01:55:00.265507Z",
     "start_time": "2020-07-10T01:55:00.249549Z"
    }
   },
   "outputs": [
    {
     "data": {
      "text/html": [
       "<div>\n",
       "<style scoped>\n",
       "    .dataframe tbody tr th:only-of-type {\n",
       "        vertical-align: middle;\n",
       "    }\n",
       "\n",
       "    .dataframe tbody tr th {\n",
       "        vertical-align: top;\n",
       "    }\n",
       "\n",
       "    .dataframe thead th {\n",
       "        text-align: right;\n",
       "    }\n",
       "</style>\n",
       "<table border=\"1\" class=\"dataframe\">\n",
       "  <thead>\n",
       "    <tr style=\"text-align: right;\">\n",
       "      <th></th>\n",
       "      <th>fecha_dato</th>\n",
       "      <th>ncodpers</th>\n",
       "      <th>ind_empleado</th>\n",
       "      <th>pais_residencia</th>\n",
       "      <th>sexo</th>\n",
       "      <th>age</th>\n",
       "      <th>fecha_alta</th>\n",
       "      <th>ind_nuevo</th>\n",
       "      <th>antiguedad</th>\n",
       "      <th>indrel</th>\n",
       "      <th>...</th>\n",
       "      <th>indext</th>\n",
       "      <th>conyuemp</th>\n",
       "      <th>canal_entrada</th>\n",
       "      <th>indfall</th>\n",
       "      <th>tipodom</th>\n",
       "      <th>cod_prov</th>\n",
       "      <th>nomprov</th>\n",
       "      <th>ind_actividad_cliente</th>\n",
       "      <th>renta</th>\n",
       "      <th>segmento</th>\n",
       "    </tr>\n",
       "  </thead>\n",
       "  <tbody>\n",
       "    <tr>\n",
       "      <th>929610</th>\n",
       "      <td>2016-06-28</td>\n",
       "      <td>660237</td>\n",
       "      <td>N</td>\n",
       "      <td>ES</td>\n",
       "      <td>V</td>\n",
       "      <td>55</td>\n",
       "      <td>1999-04-21</td>\n",
       "      <td>0</td>\n",
       "      <td>206</td>\n",
       "      <td>1</td>\n",
       "      <td>...</td>\n",
       "      <td>N</td>\n",
       "      <td>NaN</td>\n",
       "      <td>KAT</td>\n",
       "      <td>N</td>\n",
       "      <td>1</td>\n",
       "      <td>28.0</td>\n",
       "      <td>MADRID</td>\n",
       "      <td>1</td>\n",
       "      <td>128643.57</td>\n",
       "      <td>01 - TOP</td>\n",
       "    </tr>\n",
       "    <tr>\n",
       "      <th>929611</th>\n",
       "      <td>2016-06-28</td>\n",
       "      <td>660238</td>\n",
       "      <td>N</td>\n",
       "      <td>ES</td>\n",
       "      <td>V</td>\n",
       "      <td>30</td>\n",
       "      <td>2006-11-29</td>\n",
       "      <td>0</td>\n",
       "      <td>115</td>\n",
       "      <td>1</td>\n",
       "      <td>...</td>\n",
       "      <td>N</td>\n",
       "      <td>NaN</td>\n",
       "      <td>KFC</td>\n",
       "      <td>N</td>\n",
       "      <td>1</td>\n",
       "      <td>26.0</td>\n",
       "      <td>RIOJA, LA</td>\n",
       "      <td>0</td>\n",
       "      <td>NA</td>\n",
       "      <td>02 - PARTICULARES</td>\n",
       "    </tr>\n",
       "    <tr>\n",
       "      <th>929612</th>\n",
       "      <td>2016-06-28</td>\n",
       "      <td>660240</td>\n",
       "      <td>N</td>\n",
       "      <td>ES</td>\n",
       "      <td>V</td>\n",
       "      <td>52</td>\n",
       "      <td>2006-11-29</td>\n",
       "      <td>0</td>\n",
       "      <td>115</td>\n",
       "      <td>1</td>\n",
       "      <td>...</td>\n",
       "      <td>N</td>\n",
       "      <td>NaN</td>\n",
       "      <td>KBZ</td>\n",
       "      <td>N</td>\n",
       "      <td>1</td>\n",
       "      <td>33.0</td>\n",
       "      <td>ASTURIAS</td>\n",
       "      <td>1</td>\n",
       "      <td>72765.27</td>\n",
       "      <td>02 - PARTICULARES</td>\n",
       "    </tr>\n",
       "    <tr>\n",
       "      <th>929613</th>\n",
       "      <td>2016-06-28</td>\n",
       "      <td>660243</td>\n",
       "      <td>N</td>\n",
       "      <td>ES</td>\n",
       "      <td>V</td>\n",
       "      <td>32</td>\n",
       "      <td>2006-11-29</td>\n",
       "      <td>0</td>\n",
       "      <td>115</td>\n",
       "      <td>1</td>\n",
       "      <td>...</td>\n",
       "      <td>N</td>\n",
       "      <td>NaN</td>\n",
       "      <td>KFC</td>\n",
       "      <td>N</td>\n",
       "      <td>1</td>\n",
       "      <td>33.0</td>\n",
       "      <td>ASTURIAS</td>\n",
       "      <td>0</td>\n",
       "      <td>147488.88</td>\n",
       "      <td>02 - PARTICULARES</td>\n",
       "    </tr>\n",
       "    <tr>\n",
       "      <th>929614</th>\n",
       "      <td>2016-06-28</td>\n",
       "      <td>660248</td>\n",
       "      <td>N</td>\n",
       "      <td>ES</td>\n",
       "      <td>V</td>\n",
       "      <td>92</td>\n",
       "      <td>2006-11-29</td>\n",
       "      <td>0</td>\n",
       "      <td>115</td>\n",
       "      <td>1</td>\n",
       "      <td>...</td>\n",
       "      <td>N</td>\n",
       "      <td>NaN</td>\n",
       "      <td>KAT</td>\n",
       "      <td>N</td>\n",
       "      <td>1</td>\n",
       "      <td>45.0</td>\n",
       "      <td>TOLEDO</td>\n",
       "      <td>0</td>\n",
       "      <td>NA</td>\n",
       "      <td>02 - PARTICULARES</td>\n",
       "    </tr>\n",
       "  </tbody>\n",
       "</table>\n",
       "<p>5 rows × 24 columns</p>\n",
       "</div>"
      ],
      "text/plain": [
       "        fecha_dato  ncodpers ind_empleado pais_residencia sexo  age  \\\n",
       "929610  2016-06-28    660237            N              ES    V   55   \n",
       "929611  2016-06-28    660238            N              ES    V   30   \n",
       "929612  2016-06-28    660240            N              ES    V   52   \n",
       "929613  2016-06-28    660243            N              ES    V   32   \n",
       "929614  2016-06-28    660248            N              ES    V   92   \n",
       "\n",
       "        fecha_alta  ind_nuevo  antiguedad  indrel  ... indext  conyuemp  \\\n",
       "929610  1999-04-21          0         206       1  ...      N       NaN   \n",
       "929611  2006-11-29          0         115       1  ...      N       NaN   \n",
       "929612  2006-11-29          0         115       1  ...      N       NaN   \n",
       "929613  2006-11-29          0         115       1  ...      N       NaN   \n",
       "929614  2006-11-29          0         115       1  ...      N       NaN   \n",
       "\n",
       "       canal_entrada indfall tipodom cod_prov    nomprov  \\\n",
       "929610           KAT       N       1     28.0     MADRID   \n",
       "929611           KFC       N       1     26.0  RIOJA, LA   \n",
       "929612           KBZ       N       1     33.0   ASTURIAS   \n",
       "929613           KFC       N       1     33.0   ASTURIAS   \n",
       "929614           KAT       N       1     45.0     TOLEDO   \n",
       "\n",
       "       ind_actividad_cliente        renta           segmento  \n",
       "929610                     1    128643.57           01 - TOP  \n",
       "929611                     0           NA  02 - PARTICULARES  \n",
       "929612                     1     72765.27  02 - PARTICULARES  \n",
       "929613                     0    147488.88  02 - PARTICULARES  \n",
       "929614                     0           NA  02 - PARTICULARES  \n",
       "\n",
       "[5 rows x 24 columns]"
      ]
     },
     "execution_count": 5,
     "metadata": {},
     "output_type": "execute_result"
    }
   ],
   "source": [
    "test.tail()"
   ]
  },
  {
   "cell_type": "markdown",
   "metadata": {},
   "source": [
    "#### column descriptions\n",
    "\n",
    "- fecha_dato : the table is partitioned for this column(해당 데이터를 만든? 날짜라고 생각하면 될듯..)\n",
    "\n",
    "\n",
    "- ncodpers : customer code (고객 코드, 코드-고객 1:1매칭.. 중복되는 코드가 있을 수 있다)\n",
    "\n",
    "\n",
    "- ind_empleado : employee index (A active, B ex employed, F filial, N not employee, P pasive)\n",
    "\n",
    "\n",
    "- pais_residencia : customer's country residence (고객 국적)\n",
    "\n",
    "\n",
    "- sexo : customers's sex(고객 성별)\n",
    "\n",
    "\n",
    "- age : age(고객 나이)\n",
    "\n",
    "\n",
    "-  fecha_alta : the date in which the customer became as the first holder of a contract in the bank\n",
    "(계약 시작 날짜로 생각하면 될듯)\n",
    "\n",
    "\n",
    "- ind_nuevo : new customer index. 1 if the customer registered in the last 6 months(최근 6개월 내 계약한 고객)\n",
    "\n",
    "\n",
    "- antiguedad : customer seniority(in months) fecha_alta와 fecha_dato사이 간격(개월 수)\n",
    "\n",
    "\n",
    "- indrel : 1(First/primary), 99(primary customer during the month but not at the end of the month)\n",
    "\n",
    "\n",
    "- ult_fec_cli_1t : last date as primary customer(if he isn't at the end of the month)\n",
    "\n",
    "\n",
    "- indrel_1mes : customer type at the beginning of the month, 1 (First/Primary customer), 2 (co-owner),P (Potential),3 (former primary), 4(former co-owner)\n",
    "\n",
    "\n",
    "- tiprel_1mes : customer relation type at the beginning of the month.  A (active), I (inactive), P (former customer),R (Potential)\n",
    "\n",
    "\n",
    "- indresi : residence index (S (Yes) or N (No) if the residence country is the same than the bank country)\n",
    "\n",
    "\n",
    "- indext : Foreigner index (S (Yes) or N (No) if the customer's birth country is different than the bank country)\n",
    "\n",
    "\n",
    "- conyuemp : spouse index. 1 if the customer is spouse of an employee\n",
    "\n",
    "\n",
    "- canal_entrada : channel used by the customer to join\n",
    "\n",
    "\n",
    "- indfall : deceased index. N/S\n",
    "\n",
    "\n",
    "- tipodom : address type. 1, primary address\n",
    "\n",
    "\n",
    "- cod-prov : province cod(customer's address)\n",
    "\n",
    "\n",
    "- nomprov : province name\n",
    "\n",
    "\n",
    "- ind_actividad_cliente : activity index(1 : active customer, 0 : inactive customer)\n",
    "\n",
    "\n",
    "- renta : gross income of the household\n",
    "\n",
    "\n",
    "- segmento : segmentation: 01 - VIP, 02 - Individuals 03 - college graduated"
   ]
  },
  {
   "cell_type": "code",
   "execution_count": 6,
   "metadata": {
    "ExecuteTime": {
     "end_time": "2020-07-10T01:55:11.643077Z",
     "start_time": "2020-07-10T01:55:05.662073Z"
    }
   },
   "outputs": [
    {
     "data": {
      "text/plain": [
       "fecha_dato               False\n",
       "ncodpers                 False\n",
       "ind_empleado              True\n",
       "pais_residencia           True\n",
       "sexo                      True\n",
       "age                      False\n",
       "fecha_alta                True\n",
       "ind_nuevo                 True\n",
       "antiguedad               False\n",
       "indrel                    True\n",
       "ult_fec_cli_1t            True\n",
       "indrel_1mes               True\n",
       "tiprel_1mes               True\n",
       "indresi                   True\n",
       "indext                    True\n",
       "conyuemp                  True\n",
       "canal_entrada             True\n",
       "indfall                   True\n",
       "tipodom                   True\n",
       "cod_prov                  True\n",
       "nomprov                   True\n",
       "ind_actividad_cliente     True\n",
       "renta                     True\n",
       "segmento                  True\n",
       "ind_ahor_fin_ult1        False\n",
       "ind_aval_fin_ult1        False\n",
       "ind_cco_fin_ult1         False\n",
       "ind_cder_fin_ult1        False\n",
       "ind_cno_fin_ult1         False\n",
       "ind_ctju_fin_ult1        False\n",
       "ind_ctma_fin_ult1        False\n",
       "ind_ctop_fin_ult1        False\n",
       "ind_ctpp_fin_ult1        False\n",
       "ind_deco_fin_ult1        False\n",
       "ind_deme_fin_ult1        False\n",
       "ind_dela_fin_ult1        False\n",
       "ind_ecue_fin_ult1        False\n",
       "ind_fond_fin_ult1        False\n",
       "ind_hip_fin_ult1         False\n",
       "ind_plan_fin_ult1        False\n",
       "ind_pres_fin_ult1        False\n",
       "ind_reca_fin_ult1        False\n",
       "ind_tjcr_fin_ult1        False\n",
       "ind_valo_fin_ult1        False\n",
       "ind_viv_fin_ult1         False\n",
       "ind_nomina_ult1           True\n",
       "ind_nom_pens_ult1         True\n",
       "ind_recibo_ult1          False\n",
       "dtype: bool"
      ]
     },
     "execution_count": 6,
     "metadata": {},
     "output_type": "execute_result"
    }
   ],
   "source": [
    "train.isnull().any()"
   ]
  },
  {
   "cell_type": "code",
   "execution_count": 7,
   "metadata": {
    "ExecuteTime": {
     "end_time": "2020-07-10T01:55:23.425222Z",
     "start_time": "2020-07-10T01:55:17.039885Z"
    }
   },
   "outputs": [
    {
     "data": {
      "text/plain": [
       "fecha_dato                      0\n",
       "ncodpers                        0\n",
       "ind_empleado                27734\n",
       "pais_residencia             27734\n",
       "sexo                        27804\n",
       "age                             0\n",
       "fecha_alta                  27734\n",
       "ind_nuevo                   27734\n",
       "antiguedad                      0\n",
       "indrel                      27734\n",
       "ult_fec_cli_1t           13622516\n",
       "indrel_1mes                149781\n",
       "tiprel_1mes                149781\n",
       "indresi                     27734\n",
       "indext                      27734\n",
       "conyuemp                 13645501\n",
       "canal_entrada              186126\n",
       "indfall                     27734\n",
       "tipodom                     27735\n",
       "cod_prov                    93591\n",
       "nomprov                     93591\n",
       "ind_actividad_cliente       27734\n",
       "renta                     2794375\n",
       "segmento                   189368\n",
       "ind_ahor_fin_ult1               0\n",
       "ind_aval_fin_ult1               0\n",
       "ind_cco_fin_ult1                0\n",
       "ind_cder_fin_ult1               0\n",
       "ind_cno_fin_ult1                0\n",
       "ind_ctju_fin_ult1               0\n",
       "ind_ctma_fin_ult1               0\n",
       "ind_ctop_fin_ult1               0\n",
       "ind_ctpp_fin_ult1               0\n",
       "ind_deco_fin_ult1               0\n",
       "ind_deme_fin_ult1               0\n",
       "ind_dela_fin_ult1               0\n",
       "ind_ecue_fin_ult1               0\n",
       "ind_fond_fin_ult1               0\n",
       "ind_hip_fin_ult1                0\n",
       "ind_plan_fin_ult1               0\n",
       "ind_pres_fin_ult1               0\n",
       "ind_reca_fin_ult1               0\n",
       "ind_tjcr_fin_ult1               0\n",
       "ind_valo_fin_ult1               0\n",
       "ind_viv_fin_ult1                0\n",
       "ind_nomina_ult1             16063\n",
       "ind_nom_pens_ult1           16063\n",
       "ind_recibo_ult1                 0\n",
       "dtype: int64"
      ]
     },
     "execution_count": 7,
     "metadata": {},
     "output_type": "execute_result"
    }
   ],
   "source": [
    "train.isnull().sum()"
   ]
  },
  {
   "cell_type": "code",
   "execution_count": 8,
   "metadata": {
    "ExecuteTime": {
     "end_time": "2020-07-10T01:55:29.174844Z",
     "start_time": "2020-07-10T01:55:28.833756Z"
    }
   },
   "outputs": [
    {
     "data": {
      "text/plain": [
       "fecha_dato               False\n",
       "ncodpers                 False\n",
       "ind_empleado             False\n",
       "pais_residencia          False\n",
       "sexo                      True\n",
       "age                      False\n",
       "fecha_alta               False\n",
       "ind_nuevo                False\n",
       "antiguedad               False\n",
       "indrel                   False\n",
       "ult_fec_cli_1t            True\n",
       "indrel_1mes               True\n",
       "tiprel_1mes               True\n",
       "indresi                  False\n",
       "indext                   False\n",
       "conyuemp                  True\n",
       "canal_entrada             True\n",
       "indfall                  False\n",
       "tipodom                  False\n",
       "cod_prov                  True\n",
       "nomprov                   True\n",
       "ind_actividad_cliente    False\n",
       "renta                    False\n",
       "segmento                  True\n",
       "dtype: bool"
      ]
     },
     "execution_count": 8,
     "metadata": {},
     "output_type": "execute_result"
    }
   ],
   "source": [
    "test.isnull().any()"
   ]
  },
  {
   "cell_type": "code",
   "execution_count": 9,
   "metadata": {
    "ExecuteTime": {
     "end_time": "2020-07-10T02:04:12.457796Z",
     "start_time": "2020-07-10T02:04:12.454807Z"
    }
   },
   "outputs": [],
   "source": [
    "# train data에서 product에 해당하는 column들.\n",
    "product_columns = train.columns[24:]\n",
    "\n",
    "# customer 특성에 해당하는 column들\n",
    "customer_columns = train.columns[:24]"
   ]
  },
  {
   "cell_type": "code",
   "execution_count": 10,
   "metadata": {
    "ExecuteTime": {
     "end_time": "2020-07-10T02:04:20.736743Z",
     "start_time": "2020-07-10T02:04:17.961179Z"
    },
    "scrolled": true
   },
   "outputs": [
    {
     "name": "stdout",
     "output_type": "stream",
     "text": [
      "0    13645913\n",
      "1        1396\n",
      "Name: ind_ahor_fin_ult1, dtype: int64\n",
      "\n",
      "0    13646993\n",
      "1         316\n",
      "Name: ind_aval_fin_ult1, dtype: int64\n",
      "\n",
      "1    8945588\n",
      "0    4701721\n",
      "Name: ind_cco_fin_ult1, dtype: int64\n",
      "\n",
      "0    13641933\n",
      "1        5376\n",
      "Name: ind_cder_fin_ult1, dtype: int64\n",
      "\n",
      "0    12543689\n",
      "1     1103620\n",
      "Name: ind_cno_fin_ult1, dtype: int64\n",
      "\n",
      "0    13518012\n",
      "1      129297\n",
      "Name: ind_ctju_fin_ult1, dtype: int64\n",
      "\n",
      "0    13514567\n",
      "1      132742\n",
      "Name: ind_ctma_fin_ult1, dtype: int64\n",
      "\n",
      "0    11886693\n",
      "1     1760616\n",
      "Name: ind_ctop_fin_ult1, dtype: int64\n",
      "\n",
      "0    13056301\n",
      "1      591008\n",
      "Name: ind_ctpp_fin_ult1, dtype: int64\n",
      "\n",
      "0    13623034\n",
      "1       24275\n",
      "Name: ind_deco_fin_ult1, dtype: int64\n",
      "\n",
      "0    13624641\n",
      "1       22668\n",
      "Name: ind_deme_fin_ult1, dtype: int64\n",
      "\n",
      "0    13060928\n",
      "1      586381\n",
      "Name: ind_dela_fin_ult1, dtype: int64\n",
      "\n",
      "0    12518082\n",
      "1     1129227\n",
      "Name: ind_ecue_fin_ult1, dtype: int64\n",
      "\n",
      "0    13395025\n",
      "1      252284\n",
      "Name: ind_fond_fin_ult1, dtype: int64\n",
      "\n",
      "0    13566973\n",
      "1       80336\n",
      "Name: ind_hip_fin_ult1, dtype: int64\n",
      "\n",
      "0    13522150\n",
      "1      125159\n",
      "Name: ind_plan_fin_ult1, dtype: int64\n",
      "\n",
      "0    13611452\n",
      "1       35857\n",
      "Name: ind_pres_fin_ult1, dtype: int64\n",
      "\n",
      "0    12930329\n",
      "1      716980\n",
      "Name: ind_reca_fin_ult1, dtype: int64\n",
      "\n",
      "0    13041523\n",
      "1      605786\n",
      "Name: ind_tjcr_fin_ult1, dtype: int64\n",
      "\n",
      "0    13297834\n",
      "1      349475\n",
      "Name: ind_valo_fin_ult1, dtype: int64\n",
      "\n",
      "0    13594798\n",
      "1       52511\n",
      "Name: ind_viv_fin_ult1, dtype: int64\n",
      "\n",
      "0.0    12885285\n",
      "1.0      745961\n",
      "Name: ind_nomina_ult1, dtype: int64\n",
      "\n",
      "0.0    12821161\n",
      "1.0      810085\n",
      "Name: ind_nom_pens_ult1, dtype: int64\n",
      "\n",
      "0    11901597\n",
      "1     1745712\n",
      "Name: ind_recibo_ult1, dtype: int64\n",
      "\n"
     ]
    }
   ],
   "source": [
    "for col in product_columns :\n",
    "    print(train[col].value_counts())\n",
    "    print()\n",
    "    \n",
    "# product와 관련된 상품들의 value는 모두 0 또는 1로 구성되어있음\n",
    "# 0인경우 해당 product가 없는(계약하지않은) 상태이고, 1인 경우 해당 product를 가진(계약한) 상태라고 추측 가능\n",
    "# binary 문제를 푸는 거라고 생각하면 조금 쉬워지는듯!"
   ]
  },
  {
   "cell_type": "markdown",
   "metadata": {},
   "source": [
    "#### 각 column의 NaN값들을 어떻게 채울 것인지 고민이 필요함"
   ]
  },
  {
   "cell_type": "code",
   "execution_count": 11,
   "metadata": {
    "ExecuteTime": {
     "end_time": "2020-07-10T02:04:26.767614Z",
     "start_time": "2020-07-10T02:04:26.131315Z"
    }
   },
   "outputs": [
    {
     "name": "stdout",
     "output_type": "stream",
     "text": [
      "False\n"
     ]
    },
    {
     "data": {
      "text/plain": [
       "32752      17\n",
       "1273696    17\n",
       "1224536    17\n",
       "1199940    17\n",
       "1208128    17\n",
       "           ..\n",
       "1549150     1\n",
       "1543059     1\n",
       "1535935     1\n",
       "1551255     1\n",
       "1489485     1\n",
       "Name: ncodpers, Length: 956645, dtype: int64"
      ]
     },
     "execution_count": 11,
     "metadata": {},
     "output_type": "execute_result"
    }
   ],
   "source": [
    "# 고객 code\n",
    "print(train[\"ncodpers\"].isnull().any())\n",
    "train[\"ncodpers\"].value_counts()\n",
    "\n",
    "# 956645명의 unique한 고객들이 있으며, 고객 기록은 1명당 1~17개"
   ]
  },
  {
   "cell_type": "code",
   "execution_count": 12,
   "metadata": {
    "ExecuteTime": {
     "end_time": "2020-07-10T02:04:36.432063Z",
     "start_time": "2020-07-10T02:04:36.418101Z"
    }
   },
   "outputs": [
    {
     "name": "stdout",
     "output_type": "stream",
     "text": [
      "False\n"
     ]
    },
    {
     "data": {
      "text/plain": [
       "<bound method IndexOpsMixin.value_counts of 0           15889\n",
       "1         1170544\n",
       "2         1170545\n",
       "3         1170547\n",
       "4         1170548\n",
       "           ...   \n",
       "929610     660237\n",
       "929611     660238\n",
       "929612     660240\n",
       "929613     660243\n",
       "929614     660248\n",
       "Name: ncodpers, Length: 929615, dtype: int64>"
      ]
     },
     "execution_count": 12,
     "metadata": {},
     "output_type": "execute_result"
    }
   ],
   "source": [
    "print(train[\"ncodpers\"].isnull().any())\n",
    "test[\"ncodpers\"].value_counts"
   ]
  },
  {
   "cell_type": "code",
   "execution_count": 13,
   "metadata": {
    "ExecuteTime": {
     "end_time": "2020-07-10T02:04:53.549785Z",
     "start_time": "2020-07-10T02:04:53.242583Z"
    }
   },
   "outputs": [
    {
     "data": {
      "text/plain": [
       "(array(['N', nan, 'A', 'B', 'F', 'S'], dtype=object),\n",
       " array(['F', 'N', 'A', 'B', 'S'], dtype=object))"
      ]
     },
     "execution_count": 13,
     "metadata": {},
     "output_type": "execute_result"
    }
   ],
   "source": [
    "train[\"ind_empleado\"].unique(), test[\"ind_empleado\"].unique()"
   ]
  },
  {
   "cell_type": "code",
   "execution_count": 15,
   "metadata": {
    "ExecuteTime": {
     "end_time": "2020-07-10T02:05:39.618611Z",
     "start_time": "2020-07-10T02:05:38.646207Z"
    }
   },
   "outputs": [
    {
     "name": "stdout",
     "output_type": "stream",
     "text": [
      "True\n"
     ]
    },
    {
     "data": {
      "text/plain": [
       "N    13610977\n",
       "B        3566\n",
       "F        2523\n",
       "A        2492\n",
       "S          17\n",
       "Name: ind_empleado, dtype: int64"
      ]
     },
     "execution_count": 15,
     "metadata": {},
     "output_type": "execute_result"
    }
   ],
   "source": [
    "print(train[\"ind_empleado\"].isnull().any())\n",
    "train[\"ind_empleado\"].value_counts()\n",
    "\n",
    "# 정확히 어떤 column인지는 알지 못하지만, 해당 product를 계약한 은행 직원의 고용상태로 추측함\n",
    "# A(active)는 현재도 일하고있는, B(ex employed)는 과거에 일했던.. 이런식으로"
   ]
  },
  {
   "cell_type": "code",
   "execution_count": 16,
   "metadata": {
    "ExecuteTime": {
     "end_time": "2020-07-10T02:05:45.748554Z",
     "start_time": "2020-07-10T02:05:45.069342Z"
    }
   },
   "outputs": [
    {
     "name": "stdout",
     "output_type": "stream",
     "text": [
      "False\n"
     ]
    }
   ],
   "source": [
    "# 가장 많은 케이스인 N으로 nan값을 채워준다.\n",
    "\n",
    "train[\"ind_empleado\"].fillna(value = \"N\", inplace = True)\n",
    "print(train[\"ind_empleado\"].isnull().any())"
   ]
  },
  {
   "cell_type": "code",
   "execution_count": 17,
   "metadata": {
    "ExecuteTime": {
     "end_time": "2020-07-10T02:07:19.284264Z",
     "start_time": "2020-07-10T02:07:18.879347Z"
    }
   },
   "outputs": [
    {
     "data": {
      "text/plain": [
       "array(['ES', nan, 'CA', 'CH', 'CL', 'IE', 'AT', 'NL', 'FR', 'GB', 'DE',\n",
       "       'DO', 'BE', 'AR', 'VE', 'US', 'MX', 'BR', 'IT', 'EC', 'PE', 'CO',\n",
       "       'HN', 'FI', 'SE', 'AL', 'PT', 'MZ', 'CN', 'TW', 'PL', 'IN', 'CR',\n",
       "       'NI', 'HK', 'AD', 'CZ', 'AE', 'MA', 'GR', 'PR', 'RO', 'IL', 'RU',\n",
       "       'GT', 'GA', 'NO', 'SN', 'MR', 'UA', 'BG', 'PY', 'EE', 'SV', 'ET',\n",
       "       'CM', 'SA', 'CI', 'QA', 'LU', 'PA', 'BA', 'BO', 'AU', 'BY', 'KE',\n",
       "       'SG', 'HR', 'MD', 'SK', 'TR', 'AO', 'CU', 'GQ', 'EG', 'ZA', 'DK',\n",
       "       'UY', 'GE', 'TH', 'DZ', 'LB', 'JP', 'NG', 'PK', 'TN', 'TG', 'KR',\n",
       "       'GH', 'RS', 'VN', 'PH', 'KW', 'NZ', 'MM', 'KH', 'GI', 'SL', 'GN',\n",
       "       'GW', 'OM', 'CG', 'LV', 'LT', 'ML', 'MK', 'HU', 'IS', 'LY', 'CF',\n",
       "       'GM', 'KZ', 'CD', 'BZ', 'ZW', 'DJ', 'JM', 'BM', 'MT'], dtype=object)"
      ]
     },
     "execution_count": 17,
     "metadata": {},
     "output_type": "execute_result"
    }
   ],
   "source": [
    "train[\"pais_residencia\"].unique()"
   ]
  },
  {
   "cell_type": "code",
   "execution_count": 18,
   "metadata": {
    "ExecuteTime": {
     "end_time": "2020-07-10T02:07:25.797848Z",
     "start_time": "2020-07-10T02:07:24.703748Z"
    }
   },
   "outputs": [
    {
     "name": "stdout",
     "output_type": "stream",
     "text": [
      "True\n"
     ]
    },
    {
     "data": {
      "text/plain": [
       "ES    13553710\n",
       "FR        5161\n",
       "AR        4835\n",
       "DE        4625\n",
       "GB        4605\n",
       "        ...   \n",
       "DJ          11\n",
       "JM          11\n",
       "ZW          11\n",
       "BM           6\n",
       "MT           2\n",
       "Name: pais_residencia, Length: 118, dtype: int64"
      ]
     },
     "execution_count": 18,
     "metadata": {},
     "output_type": "execute_result"
    }
   ],
   "source": [
    "print(train[\"pais_residencia\"].isnull().any())\n",
    "train[\"pais_residencia\"].value_counts()\n",
    "\n",
    "# 고객의 국적 ES가 제일많고 FR, AR...순"
   ]
  },
  {
   "cell_type": "code",
   "execution_count": 19,
   "metadata": {
    "ExecuteTime": {
     "end_time": "2020-07-10T02:07:31.888535Z",
     "start_time": "2020-07-10T02:07:31.208378Z"
    }
   },
   "outputs": [
    {
     "name": "stdout",
     "output_type": "stream",
     "text": [
      "False\n"
     ]
    }
   ],
   "source": [
    "# 가장 많은 케이스인 ES으로 nan값을 채워준다.\n",
    "\n",
    "train[\"pais_residencia\"].fillna(value = \"ES\", inplace = True)\n",
    "print(train[\"pais_residencia\"].isnull().any())"
   ]
  },
  {
   "cell_type": "code",
   "execution_count": 17,
   "metadata": {
    "ExecuteTime": {
     "end_time": "2020-07-09T02:41:34.061802Z",
     "start_time": "2020-07-09T02:41:33.776565Z"
    }
   },
   "outputs": [
    {
     "data": {
      "text/plain": [
       "array(['H', 'V', nan], dtype=object)"
      ]
     },
     "execution_count": 17,
     "metadata": {},
     "output_type": "execute_result"
    }
   ],
   "source": [
    "train[\"sexo\"].unique()"
   ]
  },
  {
   "cell_type": "code",
   "execution_count": 21,
   "metadata": {
    "ExecuteTime": {
     "end_time": "2020-07-10T02:07:43.802692Z",
     "start_time": "2020-07-10T02:07:42.837253Z"
    }
   },
   "outputs": [
    {
     "name": "stdout",
     "output_type": "stream",
     "text": [
      "True\n"
     ]
    },
    {
     "data": {
      "text/plain": [
       "V    7424252\n",
       "H    6195253\n",
       "Name: sexo, dtype: int64"
      ]
     },
     "execution_count": 21,
     "metadata": {},
     "output_type": "execute_result"
    }
   ],
   "source": [
    "print(train[\"sexo\"].isnull().any())\n",
    "train[\"sexo\"].value_counts()\n",
    "\n",
    "# 고객의 성별\n",
    "# 아마 남자가 H, 여자가 V인것으로 추정.. hombre.."
   ]
  },
  {
   "cell_type": "code",
   "execution_count": 22,
   "metadata": {
    "ExecuteTime": {
     "end_time": "2020-07-10T02:07:49.216193Z",
     "start_time": "2020-07-10T02:07:49.189265Z"
    }
   },
   "outputs": [
    {
     "data": {
      "text/plain": [
       "array(['V', 'H', nan], dtype=object)"
      ]
     },
     "execution_count": 22,
     "metadata": {},
     "output_type": "execute_result"
    }
   ],
   "source": [
    "test[\"sexo\"].unique()"
   ]
  },
  {
   "cell_type": "code",
   "execution_count": 20,
   "metadata": {
    "ExecuteTime": {
     "end_time": "2020-07-10T02:07:37.405805Z",
     "start_time": "2020-07-10T02:07:37.332999Z"
    }
   },
   "outputs": [
    {
     "name": "stdout",
     "output_type": "stream",
     "text": [
      "True\n"
     ]
    },
    {
     "data": {
      "text/plain": [
       "V    504515\n",
       "H    425095\n",
       "Name: sexo, dtype: int64"
      ]
     },
     "execution_count": 20,
     "metadata": {},
     "output_type": "execute_result"
    }
   ],
   "source": [
    "print(test[\"sexo\"].isnull().any())\n",
    "test[\"sexo\"].value_counts()"
   ]
  },
  {
   "cell_type": "code",
   "execution_count": 23,
   "metadata": {
    "ExecuteTime": {
     "end_time": "2020-07-10T02:07:56.390053Z",
     "start_time": "2020-07-10T02:07:54.886092Z"
    }
   },
   "outputs": [
    {
     "name": "stdout",
     "output_type": "stream",
     "text": [
      "False\n"
     ]
    }
   ],
   "source": [
    "# sexo column이 nan인 index들중 반을 sample method로 뽑아 V로 나머지는 H로.. 반은 여자 반은 남자\n",
    "V_index = train[train[\"sexo\"].isnull()].sample(n = int(train[\"sexo\"].isnull().sum() / 2), random_state = 1).index\n",
    "\n",
    "train.loc[V_index, \"sexo\"] = \"V\"\n",
    "\n",
    "train[\"sexo\"].fillna(value = \"H\", inplace = True)\n",
    "\n",
    "print(train[\"sexo\"].isnull().any())"
   ]
  },
  {
   "cell_type": "code",
   "execution_count": 24,
   "metadata": {
    "ExecuteTime": {
     "end_time": "2020-07-10T02:08:04.124487Z",
     "start_time": "2020-07-10T02:08:04.013774Z"
    }
   },
   "outputs": [
    {
     "name": "stdout",
     "output_type": "stream",
     "text": [
      "False\n"
     ]
    }
   ],
   "source": [
    "V_index = test[test[\"sexo\"].isnull()].sample(n = int(test[\"sexo\"].isnull().sum() / 2), random_state = 1).index\n",
    "\n",
    "test.loc[V_index, \"sexo\"] = \"V\"\n",
    "\n",
    "test[\"sexo\"].fillna(value = \"H\", inplace = True)\n",
    "\n",
    "print(test[\"sexo\"].isnull().any())"
   ]
  },
  {
   "cell_type": "code",
   "execution_count": 25,
   "metadata": {
    "ExecuteTime": {
     "end_time": "2020-07-10T02:08:12.384403Z",
     "start_time": "2020-07-10T02:08:09.506063Z"
    }
   },
   "outputs": [
    {
     "data": {
      "image/png": "[encoded data removed]",
      "text/plain": [
       "<Figure size 720x576 with 1 Axes>"
      ]
     },
     "metadata": {
      "needs_background": "light"
     },
     "output_type": "display_data"
    }
   ],
   "source": [
    "plt.figure(figsize = (10, 8))\n",
    "sns.countplot(train[\"age\"])\n",
    "plt.show()"
   ]
  },
  {
   "cell_type": "code",
   "execution_count": 26,
   "metadata": {
    "ExecuteTime": {
     "end_time": "2020-07-10T02:08:18.502028Z",
     "start_time": "2020-07-10T02:08:17.807859Z"
    }
   },
   "outputs": [
    {
     "data": {
      "text/plain": [
       "23     542682\n",
       "24     527526\n",
       "22     524620\n",
       "21     500941\n",
       "20     370847\n",
       "        ...  \n",
       "116        12\n",
       "163         8\n",
       "127         8\n",
       "164         3\n",
       "126         3\n",
       "Name: age, Length: 235, dtype: int64"
      ]
     },
     "execution_count": 26,
     "metadata": {},
     "output_type": "execute_result"
    }
   ],
   "source": [
    "train[\"age\"].value_counts()\n",
    "\n",
    "# 고객들의 나이.. 100이 넘어가는건 무엇일까.."
   ]
  },
  {
   "cell_type": "code",
   "execution_count": 27,
   "metadata": {
    "ExecuteTime": {
     "end_time": "2020-07-10T02:08:24.130973Z",
     "start_time": "2020-07-10T02:08:23.875631Z"
    }
   },
   "outputs": [
    {
     "data": {
      "text/plain": [
       "array([' 35', ' 23', ' 22', ' 24', ' 65', ' 28', ' 25', ' 26', ' 53',\n",
       "       ' 27', ' 32', ' 37', ' 31', ' 39', ' 63', ' 33', ' 55', ' 42',\n",
       "       ' 58', ' 38', ' 50', ' 30', ' 45', ' 44', ' 36', ' 29', ' 60',\n",
       "       ' 57', ' 67', ' 47', ' NA', ' 34', ' 48', ' 46', ' 54', ' 84',\n",
       "       ' 15', ' 12', '  8', '  6', ' 83', ' 40', ' 77', ' 69', ' 52',\n",
       "       ' 59', ' 43', ' 10', '  9', ' 49', ' 41', ' 51', ' 78', ' 16',\n",
       "       ' 11', ' 73', ' 62', ' 66', ' 17', ' 68', ' 82', ' 95', ' 96',\n",
       "       ' 56', ' 61', ' 79', ' 72', ' 14', ' 19', ' 13', ' 86', ' 64',\n",
       "       ' 20', ' 89', ' 71', '  7', ' 70', ' 74', ' 21', ' 18', ' 75',\n",
       "       '  4', ' 80', ' 81', '  5', ' 76', ' 92', ' 93', ' 85', ' 91',\n",
       "       ' 87', ' 90', ' 94', ' 99', ' 98', ' 88', ' 97', '100', '101',\n",
       "       '106', '103', '  3', '  2', '102', '104', '111', '107', '109',\n",
       "       '105', '112', '115', '110', '116', '108', '113', 37, 81, 43, 30,\n",
       "       45, 41, 67, 59, 46, 36, 47, 69, 39, 44, 40, 38, 34, 42, 31, 35, 48,\n",
       "       60, 54, 51, 33, 62, 50, 11, 57, 55, 85, 80, 70, 32, 52, 94, 61, 13,\n",
       "       29, 49, 76, 28, 63, 10, 88, 68, 64, 58, 56, 79, 53, 77, 74, 82, 89,\n",
       "       86, 72, 95, 66, 71, 78, 75, 27, 22, 23, 65, 21, 26, 98, 19, 84, 83,\n",
       "       90, 12, 14, 87, 93, 18, 92, 99, 17, 97, 102, 16, 73, 91, 15, 25,\n",
       "       24, 20, 96, 104, 110, 103, 106, 105, 111, 109, 101, 100, 108, 107,\n",
       "       9, 113, 2, 112, 3, 8, 7, 6, 126, 115, 117, 163, 116, 5, 4, 127,\n",
       "       114, 164], dtype=object)"
      ]
     },
     "execution_count": 27,
     "metadata": {},
     "output_type": "execute_result"
    }
   ],
   "source": [
    "train[\"age\"].unique()"
   ]
  },
  {
   "cell_type": "code",
   "execution_count": 28,
   "metadata": {
    "ExecuteTime": {
     "end_time": "2020-07-10T02:08:30.135887Z",
     "start_time": "2020-07-10T02:08:29.464682Z"
    }
   },
   "outputs": [],
   "source": [
    "# \" Na\" 값을 먼저 nan으로 바꾼다..\n",
    "train.loc[train[\"age\"] == \" NA\", \"age\"] = np.NaN"
   ]
  },
  {
   "cell_type": "code",
   "execution_count": 29,
   "metadata": {
    "ExecuteTime": {
     "end_time": "2020-07-10T02:08:39.024115Z",
     "start_time": "2020-07-10T02:08:35.503531Z"
    }
   },
   "outputs": [],
   "source": [
    "# 공백이 포함되서 문자열로 인식되는걸 숫자로 바꿔준다\n",
    "train[\"age\"] = pd.to_numeric(train[\"age\"])"
   ]
  },
  {
   "cell_type": "code",
   "execution_count": 30,
   "metadata": {
    "ExecuteTime": {
     "end_time": "2020-07-10T02:08:44.692242Z",
     "start_time": "2020-07-10T02:08:44.603479Z"
    }
   },
   "outputs": [
    {
     "data": {
      "text/plain": [
       "array([ 35.,  23.,  22.,  24.,  65.,  28.,  25.,  26.,  53.,  27.,  32.,\n",
       "        37.,  31.,  39.,  63.,  33.,  55.,  42.,  58.,  38.,  50.,  30.,\n",
       "        45.,  44.,  36.,  29.,  60.,  57.,  67.,  47.,  nan,  34.,  48.,\n",
       "        46.,  54.,  84.,  15.,  12.,   8.,   6.,  83.,  40.,  77.,  69.,\n",
       "        52.,  59.,  43.,  10.,   9.,  49.,  41.,  51.,  78.,  16.,  11.,\n",
       "        73.,  62.,  66.,  17.,  68.,  82.,  95.,  96.,  56.,  61.,  79.,\n",
       "        72.,  14.,  19.,  13.,  86.,  64.,  20.,  89.,  71.,   7.,  70.,\n",
       "        74.,  21.,  18.,  75.,   4.,  80.,  81.,   5.,  76.,  92.,  93.,\n",
       "        85.,  91.,  87.,  90.,  94.,  99.,  98.,  88.,  97., 100., 101.,\n",
       "       106., 103.,   3.,   2., 102., 104., 111., 107., 109., 105., 112.,\n",
       "       115., 110., 116., 108., 113., 126., 117., 163., 127., 114., 164.])"
      ]
     },
     "execution_count": 30,
     "metadata": {},
     "output_type": "execute_result"
    }
   ],
   "source": [
    "train[\"age\"].unique()"
   ]
  },
  {
   "cell_type": "code",
   "execution_count": 31,
   "metadata": {
    "ExecuteTime": {
     "end_time": "2020-07-10T02:08:51.808760Z",
     "start_time": "2020-07-10T02:08:50.262866Z"
    }
   },
   "outputs": [
    {
     "name": "stdout",
     "output_type": "stream",
     "text": [
      "False\n"
     ]
    }
   ],
   "source": [
    "# 나이가 너무 적거나 너무 많은 경우가 있다...\n",
    "# nan값은 평균값으로 바꾸고..\n",
    "# 너무 적거나 너무 많은 경우는 일정 범위의 평균값으로 바꿔보자..\n",
    "train.loc[train[\"age\"] < 18, \"age\"] = train.loc[(train[\"age\"] >= 18) & (train[\"age\"] <= 30), \"age\"].mean()\n",
    "train.loc[train[\"age\"] > 100, \"age\"] = train.loc[(train[\"age\"] >= 31) & (train[\"age\"] <= 100), \"age\"].mean()\n",
    "\n",
    "train[\"age\"].fillna(value = train[\"age\"].mean(), inplace = True)\n",
    "\n",
    "print(train[\"age\"].isnull().any())\n",
    "\n",
    "# 나이는 int형태로 바꿔준다\n",
    "train[\"age\"] = train[\"age\"].astype(int)"
   ]
  },
  {
   "cell_type": "code",
   "execution_count": 32,
   "metadata": {
    "ExecuteTime": {
     "end_time": "2020-07-10T02:08:57.964270Z",
     "start_time": "2020-07-10T02:08:56.844265Z"
    }
   },
   "outputs": [
    {
     "data": {
      "image/png": "[encoded data removed]",
      "text/plain": [
       "<Figure size 720x576 with 1 Axes>"
      ]
     },
     "metadata": {
      "needs_background": "light"
     },
     "output_type": "display_data"
    }
   ],
   "source": [
    "# age column을 정리하고나니 훨씬 깔끔한 그래프 형태가 되었다..\n",
    "\n",
    "plt.figure(figsize = (10, 8))\n",
    "sns.countplot(train[\"age\"])\n",
    "plt.show()"
   ]
  },
  {
   "cell_type": "code",
   "execution_count": 33,
   "metadata": {
    "ExecuteTime": {
     "end_time": "2020-07-10T02:09:03.015829Z",
     "start_time": "2020-07-10T02:09:03.006853Z"
    }
   },
   "outputs": [
    {
     "data": {
      "text/plain": [
       "array([ 56,  36,  22,  51,  41,  33,  23,  43,  63,  62,  32,  58,  71,\n",
       "        31,  30,  59,  45,  37,  39,  38,  46,  34,  35,  42,  29,  88,\n",
       "        64,  48,  72,  47,  27,  24,  50,  49,  57,  67,  25,  28,  13,\n",
       "        40,  53,  54,  26,  11,  21,  60,  44,  55,   7,  52,  66,  90,\n",
       "        73,  78,  79,  61,  69,  12,   9,  65,  77,  83,  81,  10,   5,\n",
       "        18,  17,  87,  70,  80,  75,  68,  74,  16,   4,  82,  91,  76,\n",
       "        19,  15,   6,  97,  89,  85,  86,  14,  20,   8,  84,  95,  93,\n",
       "       100,  96,  92,  98,  94, 105, 102, 101, 104, 103,  99,   3,   2,\n",
       "       116, 106, 107, 109, 110, 117, 108, 113, 111, 112, 114, 164, 118,\n",
       "       127], dtype=int64)"
      ]
     },
     "execution_count": 33,
     "metadata": {},
     "output_type": "execute_result"
    }
   ],
   "source": [
    "test[\"age\"].unique()"
   ]
  },
  {
   "cell_type": "code",
   "execution_count": 34,
   "metadata": {
    "ExecuteTime": {
     "end_time": "2020-07-10T02:09:25.081604Z",
     "start_time": "2020-07-10T02:09:21.229881Z"
    }
   },
   "outputs": [],
   "source": [
    "# 날짜관련 column들이 string으로 되어있어서 datetime형태로 바꾸어준다\n",
    "train[\"fecha_dato\"] = pd.to_datetime(train[\"fecha_dato\"], format = \"%Y-%m-%d\")\n",
    "train[\"fecha_alta\"] = pd.to_datetime(train[\"fecha_alta\"], format = \"%Y-%m-%d\")"
   ]
  },
  {
   "cell_type": "code",
   "execution_count": 35,
   "metadata": {
    "ExecuteTime": {
     "end_time": "2020-07-10T02:09:29.921634Z",
     "start_time": "2020-07-10T02:09:29.685267Z"
    }
   },
   "outputs": [],
   "source": [
    "test[\"fecha_dato\"] = pd.to_datetime(test[\"fecha_dato\"], format = \"%Y-%m-%d\")\n",
    "test[\"fecha_alta\"] = pd.to_datetime(test[\"fecha_alta\"], format = \"%Y-%m-%d\")"
   ]
  },
  {
   "cell_type": "code",
   "execution_count": 36,
   "metadata": {
    "ExecuteTime": {
     "end_time": "2020-07-10T02:09:34.511725Z",
     "start_time": "2020-07-10T02:09:34.443881Z"
    }
   },
   "outputs": [
    {
     "data": {
      "text/plain": [
       "array(['2015-01-12T00:00:00.000000000', '2012-08-10T00:00:00.000000000',\n",
       "                                 'NaT', ...,\n",
       "       '2016-05-25T00:00:00.000000000', '2016-05-01T00:00:00.000000000',\n",
       "       '2016-05-15T00:00:00.000000000'], dtype='datetime64[ns]')"
      ]
     },
     "execution_count": 36,
     "metadata": {},
     "output_type": "execute_result"
    }
   ],
   "source": [
    "train[\"fecha_alta\"].unique()"
   ]
  },
  {
   "cell_type": "code",
   "execution_count": 37,
   "metadata": {
    "ExecuteTime": {
     "end_time": "2020-07-10T02:09:39.136140Z",
     "start_time": "2020-07-10T02:09:39.039398Z"
    }
   },
   "outputs": [
    {
     "data": {
      "text/plain": [
       "2014-07-28    57389\n",
       "2014-10-03    54287\n",
       "2014-08-04    45746\n",
       "2013-10-14    40804\n",
       "2013-08-03    33414\n",
       "              ...  \n",
       "1995-04-29       11\n",
       "2015-05-31        9\n",
       "2014-05-01        7\n",
       "2010-07-04        4\n",
       "2009-12-25        4\n",
       "Name: fecha_alta, Length: 6756, dtype: int64"
      ]
     },
     "execution_count": 37,
     "metadata": {},
     "output_type": "execute_result"
    }
   ],
   "source": [
    "train[\"fecha_alta\"].value_counts()"
   ]
  },
  {
   "cell_type": "code",
   "execution_count": 38,
   "metadata": {
    "ExecuteTime": {
     "end_time": "2020-07-10T02:09:43.760267Z",
     "start_time": "2020-07-10T02:09:43.661532Z"
    }
   },
   "outputs": [
    {
     "data": {
      "text/plain": [
       "Timestamp('2014-07-28 00:00:00')"
      ]
     },
     "execution_count": 38,
     "metadata": {},
     "output_type": "execute_result"
    }
   ],
   "source": [
    "median_date = train[\"fecha_alta\"].value_counts().index[0]\n",
    "median_date"
   ]
  },
  {
   "cell_type": "code",
   "execution_count": 39,
   "metadata": {
    "ExecuteTime": {
     "end_time": "2020-07-10T02:09:48.356750Z",
     "start_time": "2020-07-10T02:09:48.313863Z"
    }
   },
   "outputs": [
    {
     "name": "stdout",
     "output_type": "stream",
     "text": [
      "False\n"
     ]
    }
   ],
   "source": [
    "# fecha_alta column의 nan값은.. median값으로 바꾼다.\n",
    "train[\"fecha_alta\"].fillna(value = median_date, inplace = True)\n",
    "print(train[\"fecha_alta\"].isnull().any())"
   ]
  },
  {
   "cell_type": "code",
   "execution_count": 40,
   "metadata": {
    "ExecuteTime": {
     "end_time": "2020-07-10T02:16:25.239263Z",
     "start_time": "2020-07-10T02:16:25.151493Z"
    }
   },
   "outputs": [
    {
     "data": {
      "text/plain": [
       "array([ 0., nan,  1.])"
      ]
     },
     "execution_count": 40,
     "metadata": {},
     "output_type": "execute_result"
    }
   ],
   "source": [
    "train[\"ind_nuevo\"].unique()"
   ]
  },
  {
   "cell_type": "code",
   "execution_count": 41,
   "metadata": {
    "ExecuteTime": {
     "end_time": "2020-07-10T02:16:29.996686Z",
     "start_time": "2020-07-10T02:16:29.875037Z"
    }
   },
   "outputs": [
    {
     "data": {
      "text/plain": [
       "0.0    12808368\n",
       "1.0      811207\n",
       "Name: ind_nuevo, dtype: int64"
      ]
     },
     "execution_count": 41,
     "metadata": {},
     "output_type": "execute_result"
    }
   ],
   "source": [
    "train[\"ind_nuevo\"].value_counts()\n",
    "\n",
    "# 최근 6개월내에 등록된 고객은 1"
   ]
  },
  {
   "cell_type": "code",
   "execution_count": 42,
   "metadata": {
    "ExecuteTime": {
     "end_time": "2020-07-10T02:16:34.772951Z",
     "start_time": "2020-07-10T02:16:34.543550Z"
    }
   },
   "outputs": [
    {
     "data": {
      "text/plain": [
       "6"
      ]
     },
     "execution_count": 42,
     "metadata": {},
     "output_type": "execute_result"
    }
   ],
   "source": [
    "# ind_nuevo column이 NaN인 고객들의 기록을 보고 6개월이하면 1로 채워준다\n",
    "train[train[\"ind_nuevo\"].isnull()].groupby(\"ncodpers\", sort = False).size().max()"
   ]
  },
  {
   "cell_type": "code",
   "execution_count": 43,
   "metadata": {
    "ExecuteTime": {
     "end_time": "2020-07-10T02:16:39.048477Z",
     "start_time": "2020-07-10T02:16:39.013570Z"
    }
   },
   "outputs": [
    {
     "name": "stdout",
     "output_type": "stream",
     "text": [
      "False\n"
     ]
    }
   ],
   "source": [
    "train[\"ind_nuevo\"].fillna(value = 1, inplace = True)\n",
    "print(train[\"ind_nuevo\"].isnull().any())"
   ]
  },
  {
   "cell_type": "code",
   "execution_count": 44,
   "metadata": {
    "ExecuteTime": {
     "end_time": "2020-07-10T02:16:44.763218Z",
     "start_time": "2020-07-10T02:16:43.301124Z"
    }
   },
   "outputs": [],
   "source": [
    "# antiguedad\n",
    "train[\"antiguedad\"] = train[\"antiguedad\"].astype(\"str\")"
   ]
  },
  {
   "cell_type": "code",
   "execution_count": 45,
   "metadata": {
    "ExecuteTime": {
     "end_time": "2020-07-10T02:16:49.520489Z",
     "start_time": "2020-07-10T02:16:49.206310Z"
    },
    "scrolled": true
   },
   "outputs": [
    {
     "data": {
      "text/plain": [
       "array(['      6', '     35', '     34', '     NA', '     33', '     31',\n",
       "       '     21', '     16', '     27', '      9', '     22', '     13',\n",
       "       '     29', '      8', '     11', '     10', '     28', '     24',\n",
       "       '      7', '     25', '     14', '     26', '     12', '     23',\n",
       "       '      1', '     18', '      4', '      3', '     17', '     32',\n",
       "       '     30', '     20', '     15', '     19', '    157', '     36',\n",
       "       '      5', '     40', '     38', '     37', '     39', '      0',\n",
       "       '      2', '     47', '     44', '     42', '     46', '     45',\n",
       "       '     43', '     41', '     57', '     48', '     52', '     49',\n",
       "       '     50', '     56', '     58', '     51', '     55', '     54',\n",
       "       '     53', '     59', '     62', '     61', '     60', '     63',\n",
       "       '    139', '    165', '    118', '    164', '    142', '     94',\n",
       "       '    159', '    143', '    105', '    151', '    162', '    137',\n",
       "       '    150', '    128', '    122', '    156', '    119', '    160',\n",
       "       '     79', '     95', '    132', '    161', '     98', '    127',\n",
       "       '     72', '    155', '    108', '    163', '    102', '    148',\n",
       "       '    115', '    146', '    107', '     81', '    216', '    135',\n",
       "       '     92', '    121', '    198', '    134', '     93', '    140',\n",
       "       '    110', '    120', '    147', '    116', '     64', '     77',\n",
       "       '     85', '     99', '     78', '    100', '    113', '    154',\n",
       "       '    166', '    133', '    124', '    141', '     66', '    117',\n",
       "       '     86', '    193', '     80', '    144', '     87', '    126',\n",
       "       '    158', '    101', '    235', '     88', '    145', '    103',\n",
       "       '    149', '    109', '    131', '     97', '     68', '     84',\n",
       "       '    232', '    125', '    177', '    112', '     96', '     69',\n",
       "       '    171', '    167', '    104', '     76', '     82', '    152',\n",
       "       '     70', '    138', '    169', '     65', '    129', '    190',\n",
       "       '    114', '    111', '    176', '    153', '     89', '    136',\n",
       "       '     83', '    123', '    187', '    106', '    231', '    189',\n",
       "       '    217', '    172', '    199', '    173', '    174', '    209',\n",
       "       '    180', '    178', '     91', '    168', '    130', '    225',\n",
       "       '     67', '     73', '    183', '     74', '    206', '     71',\n",
       "       '    179', '    184', '    192', '     90', '    194', '    182',\n",
       "       '    188', '    213', '    185', '    195', '    186', '    207',\n",
       "       '    208', '     75', '    175', '    201', '    203', '    212',\n",
       "       '    215', '    170', '    228', '    214', '    202', '    196',\n",
       "       '    181', '    211', '    191', '    205', '    200', '    227',\n",
       "       '    218', '    219', '    226', '    224', '    210', '    242',\n",
       "       '    223', '    237', '    204', '    233', '    220', '    222',\n",
       "       '    241', '    197', '    221', '    229', '    234', '    240',\n",
       "       '    243', '    230', '    238', '    246', '    236', '    244',\n",
       "       '    239', '    245', '-999999', '105', '81', '93', '30', '79',\n",
       "       '69', '104', '18', '35', '7', '103', '34', '87', '95', '100',\n",
       "       '102', '8', '36', '14', '94', '86', '26', '32', '42', '96', '22',\n",
       "       '10', '72', '83', '54', '20', '62', '59', '9', '61', '12', '80',\n",
       "       '98', '92', '33', '63', '78', '88', '77', '57', '11', '84', '101',\n",
       "       '68', '40', '99', '55', '82', '19', '97', '15', '76', '43', '5',\n",
       "       '56', '89', '38', '37', '53', '58', '60', '146', '3', '31', '29',\n",
       "       '6', '70', '45', '51', '64', '52', '41', '67', '23', '17', '48',\n",
       "       '47', '66', '49', '108', '25', '16', '21', '74', '0', '39', '13',\n",
       "       '1', '50', '65', '91', '71', '75', '44', '2', '144', '4', '46',\n",
       "       '85', '27', '24', '111', '110', '107', '109', '73', '106', '90',\n",
       "       '112', '129', '113', '28', '134', '195', '127', '126', '122',\n",
       "       '120', '125', '121', '136', '117', '123', '118', '160', '124',\n",
       "       '145', '116', '115', '204', '163', '128', '141', '119', '135',\n",
       "       '188', '114', '165', '173', '172', '131', '202', '151', '130',\n",
       "       '175', '147', '199', '179', '162', '148', '156', '174', '152',\n",
       "       '150', '196', '168', '161', '157', '177', '180', '184', '164',\n",
       "       '225', '140', '133', '132', '149', '227', '138', '171', '190',\n",
       "       '143', '189', '176', '169', '237', '232', '210', '200', '154',\n",
       "       '181', '155', '207', '193', '201', '208', '142', '185', '182',\n",
       "       '153', '198', '178', '186', '166', '238', '159', '170', '183',\n",
       "       '241', '137', '214', '139', '221', '187', '191', '167', '206',\n",
       "       '205', '234', '158', '197', '211', '212', '194', '229', '216',\n",
       "       '235', '220', '236', '215', '228', '218', '192', '231', '209',\n",
       "       '217', '223', '222', '230', '203', '226', '233', '219', '224',\n",
       "       '240', '213', '239', '242', '243', '244', '246', '245', '247',\n",
       "       '248', '249', '250', '251', '252', '253', '254', '255', '256'],\n",
       "      dtype=object)"
      ]
     },
     "execution_count": 45,
     "metadata": {},
     "output_type": "execute_result"
    }
   ],
   "source": [
    "train[\"antiguedad\"].unique()"
   ]
  },
  {
   "cell_type": "code",
   "execution_count": 46,
   "metadata": {
    "ExecuteTime": {
     "end_time": "2020-07-10T02:16:59.372153Z",
     "start_time": "2020-07-10T02:16:53.970596Z"
    }
   },
   "outputs": [],
   "source": [
    "train[\"antiguedad\"] = pd.to_numeric(train[\"antiguedad\"], errors = \"coerce\")\n",
    "# train[\"antiguedad\"].astype(\"int\")"
   ]
  },
  {
   "cell_type": "code",
   "execution_count": 47,
   "metadata": {
    "ExecuteTime": {
     "end_time": "2020-07-10T02:17:03.607827Z",
     "start_time": "2020-07-10T02:17:03.521023Z"
    },
    "scrolled": true
   },
   "outputs": [
    {
     "data": {
      "text/plain": [
       "array([ 6.00000e+00,  3.50000e+01,  3.40000e+01,          nan,\n",
       "        3.30000e+01,  3.10000e+01,  2.10000e+01,  1.60000e+01,\n",
       "        2.70000e+01,  9.00000e+00,  2.20000e+01,  1.30000e+01,\n",
       "        2.90000e+01,  8.00000e+00,  1.10000e+01,  1.00000e+01,\n",
       "        2.80000e+01,  2.40000e+01,  7.00000e+00,  2.50000e+01,\n",
       "        1.40000e+01,  2.60000e+01,  1.20000e+01,  2.30000e+01,\n",
       "        1.00000e+00,  1.80000e+01,  4.00000e+00,  3.00000e+00,\n",
       "        1.70000e+01,  3.20000e+01,  3.00000e+01,  2.00000e+01,\n",
       "        1.50000e+01,  1.90000e+01,  1.57000e+02,  3.60000e+01,\n",
       "        5.00000e+00,  4.00000e+01,  3.80000e+01,  3.70000e+01,\n",
       "        3.90000e+01,  0.00000e+00,  2.00000e+00,  4.70000e+01,\n",
       "        4.40000e+01,  4.20000e+01,  4.60000e+01,  4.50000e+01,\n",
       "        4.30000e+01,  4.10000e+01,  5.70000e+01,  4.80000e+01,\n",
       "        5.20000e+01,  4.90000e+01,  5.00000e+01,  5.60000e+01,\n",
       "        5.80000e+01,  5.10000e+01,  5.50000e+01,  5.40000e+01,\n",
       "        5.30000e+01,  5.90000e+01,  6.20000e+01,  6.10000e+01,\n",
       "        6.00000e+01,  6.30000e+01,  1.39000e+02,  1.65000e+02,\n",
       "        1.18000e+02,  1.64000e+02,  1.42000e+02,  9.40000e+01,\n",
       "        1.59000e+02,  1.43000e+02,  1.05000e+02,  1.51000e+02,\n",
       "        1.62000e+02,  1.37000e+02,  1.50000e+02,  1.28000e+02,\n",
       "        1.22000e+02,  1.56000e+02,  1.19000e+02,  1.60000e+02,\n",
       "        7.90000e+01,  9.50000e+01,  1.32000e+02,  1.61000e+02,\n",
       "        9.80000e+01,  1.27000e+02,  7.20000e+01,  1.55000e+02,\n",
       "        1.08000e+02,  1.63000e+02,  1.02000e+02,  1.48000e+02,\n",
       "        1.15000e+02,  1.46000e+02,  1.07000e+02,  8.10000e+01,\n",
       "        2.16000e+02,  1.35000e+02,  9.20000e+01,  1.21000e+02,\n",
       "        1.98000e+02,  1.34000e+02,  9.30000e+01,  1.40000e+02,\n",
       "        1.10000e+02,  1.20000e+02,  1.47000e+02,  1.16000e+02,\n",
       "        6.40000e+01,  7.70000e+01,  8.50000e+01,  9.90000e+01,\n",
       "        7.80000e+01,  1.00000e+02,  1.13000e+02,  1.54000e+02,\n",
       "        1.66000e+02,  1.33000e+02,  1.24000e+02,  1.41000e+02,\n",
       "        6.60000e+01,  1.17000e+02,  8.60000e+01,  1.93000e+02,\n",
       "        8.00000e+01,  1.44000e+02,  8.70000e+01,  1.26000e+02,\n",
       "        1.58000e+02,  1.01000e+02,  2.35000e+02,  8.80000e+01,\n",
       "        1.45000e+02,  1.03000e+02,  1.49000e+02,  1.09000e+02,\n",
       "        1.31000e+02,  9.70000e+01,  6.80000e+01,  8.40000e+01,\n",
       "        2.32000e+02,  1.25000e+02,  1.77000e+02,  1.12000e+02,\n",
       "        9.60000e+01,  6.90000e+01,  1.71000e+02,  1.67000e+02,\n",
       "        1.04000e+02,  7.60000e+01,  8.20000e+01,  1.52000e+02,\n",
       "        7.00000e+01,  1.38000e+02,  1.69000e+02,  6.50000e+01,\n",
       "        1.29000e+02,  1.90000e+02,  1.14000e+02,  1.11000e+02,\n",
       "        1.76000e+02,  1.53000e+02,  8.90000e+01,  1.36000e+02,\n",
       "        8.30000e+01,  1.23000e+02,  1.87000e+02,  1.06000e+02,\n",
       "        2.31000e+02,  1.89000e+02,  2.17000e+02,  1.72000e+02,\n",
       "        1.99000e+02,  1.73000e+02,  1.74000e+02,  2.09000e+02,\n",
       "        1.80000e+02,  1.78000e+02,  9.10000e+01,  1.68000e+02,\n",
       "        1.30000e+02,  2.25000e+02,  6.70000e+01,  7.30000e+01,\n",
       "        1.83000e+02,  7.40000e+01,  2.06000e+02,  7.10000e+01,\n",
       "        1.79000e+02,  1.84000e+02,  1.92000e+02,  9.00000e+01,\n",
       "        1.94000e+02,  1.82000e+02,  1.88000e+02,  2.13000e+02,\n",
       "        1.85000e+02,  1.95000e+02,  1.86000e+02,  2.07000e+02,\n",
       "        2.08000e+02,  7.50000e+01,  1.75000e+02,  2.01000e+02,\n",
       "        2.03000e+02,  2.12000e+02,  2.15000e+02,  1.70000e+02,\n",
       "        2.28000e+02,  2.14000e+02,  2.02000e+02,  1.96000e+02,\n",
       "        1.81000e+02,  2.11000e+02,  1.91000e+02,  2.05000e+02,\n",
       "        2.00000e+02,  2.27000e+02,  2.18000e+02,  2.19000e+02,\n",
       "        2.26000e+02,  2.24000e+02,  2.10000e+02,  2.42000e+02,\n",
       "        2.23000e+02,  2.37000e+02,  2.04000e+02,  2.33000e+02,\n",
       "        2.20000e+02,  2.22000e+02,  2.41000e+02,  1.97000e+02,\n",
       "        2.21000e+02,  2.29000e+02,  2.34000e+02,  2.40000e+02,\n",
       "        2.43000e+02,  2.30000e+02,  2.38000e+02,  2.46000e+02,\n",
       "        2.36000e+02,  2.44000e+02,  2.39000e+02,  2.45000e+02,\n",
       "       -9.99999e+05,  2.47000e+02,  2.48000e+02,  2.49000e+02,\n",
       "        2.50000e+02,  2.51000e+02,  2.52000e+02,  2.53000e+02,\n",
       "        2.54000e+02,  2.55000e+02,  2.56000e+02])"
      ]
     },
     "execution_count": 47,
     "metadata": {},
     "output_type": "execute_result"
    }
   ],
   "source": [
    "train[\"antiguedad\"].unique()"
   ]
  },
  {
   "cell_type": "code",
   "execution_count": 48,
   "metadata": {
    "ExecuteTime": {
     "end_time": "2020-07-10T02:17:09.735418Z",
     "start_time": "2020-07-10T02:17:07.781644Z"
    }
   },
   "outputs": [
    {
     "data": {
      "image/png": "[encoded data removed]",
      "text/plain": [
       "<Figure size 720x576 with 1 Axes>"
      ]
     },
     "metadata": {
      "needs_background": "light"
     },
     "output_type": "display_data"
    }
   ],
   "source": [
    "plt.figure(figsize = (10, 8))\n",
    "sns.countplot(train[\"antiguedad\"])\n",
    "plt.show()"
   ]
  },
  {
   "cell_type": "code",
   "execution_count": 49,
   "metadata": {
    "ExecuteTime": {
     "end_time": "2020-07-10T02:17:14.887751Z",
     "start_time": "2020-07-10T02:17:13.911338Z"
    }
   },
   "outputs": [
    {
     "name": "stdout",
     "output_type": "stream",
     "text": [
      "False\n"
     ]
    }
   ],
   "source": [
    "# -99999는 0으로, nan값은.. 최소값으로..?\n",
    "train.loc[train[\"antiguedad\"] < 0, \"antiguedad\"] = 0\n",
    "train.loc[train[\"antiguedad\"].isnull(), \"antiguedad\"] = train[\"antiguedad\"].min()\n",
    "\n",
    "print(train[\"antiguedad\"].isnull().any())"
   ]
  },
  {
   "cell_type": "code",
   "execution_count": 54,
   "metadata": {
    "ExecuteTime": {
     "end_time": "2020-07-10T02:17:33.874156Z",
     "start_time": "2020-07-10T02:17:33.793346Z"
    }
   },
   "outputs": [
    {
     "data": {
      "text/plain": [
       "array([ 1., 99.])"
      ]
     },
     "execution_count": 54,
     "metadata": {},
     "output_type": "execute_result"
    }
   ],
   "source": [
    "train[\"indrel\"].unique()"
   ]
  },
  {
   "cell_type": "code",
   "execution_count": 51,
   "metadata": {
    "ExecuteTime": {
     "end_time": "2020-07-10T02:17:22.571187Z",
     "start_time": "2020-07-10T02:17:22.430563Z"
    }
   },
   "outputs": [
    {
     "data": {
      "text/plain": [
       "1.0     13594782\n",
       "99.0       24793\n",
       "Name: indrel, dtype: int64"
      ]
     },
     "execution_count": 51,
     "metadata": {},
     "output_type": "execute_result"
    }
   ],
   "source": [
    "train[\"indrel\"].value_counts()"
   ]
  },
  {
   "cell_type": "code",
   "execution_count": 52,
   "metadata": {
    "ExecuteTime": {
     "end_time": "2020-07-10T02:17:26.306226Z",
     "start_time": "2020-07-10T02:17:26.292261Z"
    }
   },
   "outputs": [
    {
     "data": {
      "text/plain": [
       "1     927932\n",
       "99      1683\n",
       "Name: indrel, dtype: int64"
      ]
     },
     "execution_count": 52,
     "metadata": {},
     "output_type": "execute_result"
    }
   ],
   "source": [
    "test[\"indrel\"].value_counts()"
   ]
  },
  {
   "cell_type": "code",
   "execution_count": 53,
   "metadata": {
    "ExecuteTime": {
     "end_time": "2020-07-10T02:17:30.082299Z",
     "start_time": "2020-07-10T02:17:30.039302Z"
    }
   },
   "outputs": [
    {
     "name": "stdout",
     "output_type": "stream",
     "text": [
      "False\n"
     ]
    }
   ],
   "source": [
    "train[\"indrel\"].fillna(value = 1, inplace = True)\n",
    "print(train[\"indrel\"].isnull().any())"
   ]
  },
  {
   "cell_type": "code",
   "execution_count": 56,
   "metadata": {
    "ExecuteTime": {
     "end_time": "2020-07-10T02:17:52.488339Z",
     "start_time": "2020-07-10T02:17:52.050154Z"
    },
    "scrolled": true
   },
   "outputs": [
    {
     "data": {
      "text/plain": [
       "(array([nan, '2015-07-02', '2015-07-23', '2015-07-06', '2015-07-30',\n",
       "        '2015-07-20', '2015-07-08', '2015-07-22', '2015-07-17',\n",
       "        '2015-07-09', '2015-07-03', '2015-07-29', '2015-07-13',\n",
       "        '2015-07-21', '2015-07-27', '2015-07-14', '2015-07-01',\n",
       "        '2015-07-24', '2015-07-15', '2015-07-16', '2015-07-28',\n",
       "        '2015-07-07', '2015-07-10', '2015-08-21', '2015-08-19',\n",
       "        '2015-08-25', '2015-08-14', '2015-08-24', '2015-08-17',\n",
       "        '2015-08-18', '2015-08-10', '2015-08-13', '2015-08-27',\n",
       "        '2015-08-03', '2015-08-06', '2015-08-20', '2015-08-26',\n",
       "        '2015-08-28', '2015-08-05', '2015-08-11', '2015-08-07',\n",
       "        '2015-08-04', '2015-08-12', '2015-09-17', '2015-09-01',\n",
       "        '2015-09-18', '2015-09-03', '2015-09-02', '2015-09-14',\n",
       "        '2015-09-16', '2015-09-29', '2015-09-28', '2015-09-09',\n",
       "        '2015-09-22', '2015-09-08', '2015-09-11', '2015-09-21',\n",
       "        '2015-09-04', '2015-09-25', '2015-09-07', '2015-09-10',\n",
       "        '2015-09-23', '2015-09-24', '2015-09-15', '2015-10-08',\n",
       "        '2015-10-07', '2015-10-13', '2015-10-26', '2015-10-29',\n",
       "        '2015-10-05', '2015-10-28', '2015-10-09', '2015-10-22',\n",
       "        '2015-10-20', '2015-10-15', '2015-10-06', '2015-10-01',\n",
       "        '2015-10-21', '2015-10-16', '2015-10-27', '2015-10-19',\n",
       "        '2015-10-23', '2015-10-02', '2015-10-14', '2015-11-23',\n",
       "        '2015-11-24', '2015-11-12', '2015-11-04', '2015-11-13',\n",
       "        '2015-11-25', '2015-11-19', '2015-11-20', '2015-11-03',\n",
       "        '2015-11-16', '2015-11-17', '2015-11-11', '2015-11-27',\n",
       "        '2015-11-18', '2015-11-10', '2015-11-26', '2015-11-02',\n",
       "        '2015-11-05', '2015-11-06', '2015-11-09', '2015-12-21',\n",
       "        '2015-12-18', '2015-12-28', '2015-12-24', '2015-12-04',\n",
       "        '2015-12-29', '2015-12-16', '2015-12-11', '2015-12-30',\n",
       "        '2015-12-15', '2015-12-01', '2015-12-09', '2015-12-10',\n",
       "        '2015-12-17', '2015-12-02', '2015-12-14', '2015-12-03',\n",
       "        '2015-12-22', '2015-12-23', '2015-12-07', '2016-01-08',\n",
       "        '2016-01-14', '2016-01-13', '2016-01-28', '2016-01-05',\n",
       "        '2016-01-19', '2016-01-12', '2016-01-18', '2016-01-21',\n",
       "        '2016-01-22', '2016-01-07', '2016-01-20', '2016-01-26',\n",
       "        '2016-01-15', '2016-01-27', '2016-01-25', '2016-01-11',\n",
       "        '2016-01-04', '2016-02-23', '2016-02-19', '2016-02-18',\n",
       "        '2016-02-26', '2016-02-12', '2016-02-24', '2016-02-09',\n",
       "        '2016-02-08', '2016-02-11', '2016-02-05', '2016-02-04',\n",
       "        '2016-02-03', '2016-02-15', '2016-02-22', '2016-02-10',\n",
       "        '2016-02-16', '2016-02-01', '2016-02-17', '2016-02-02',\n",
       "        '2016-02-25', '2016-03-07', '2016-03-29', '2016-03-10',\n",
       "        '2016-03-18', '2016-03-14', '2016-03-22', '2016-03-08',\n",
       "        '2016-03-21', '2016-03-30', '2016-03-01', '2016-03-23',\n",
       "        '2016-03-02', '2016-03-24', '2016-03-03', '2016-03-09',\n",
       "        '2016-03-11', '2016-03-04', '2016-03-16', '2016-03-28',\n",
       "        '2016-03-15', '2016-03-17', '2016-04-22', '2016-04-01',\n",
       "        '2016-04-06', '2016-04-12', '2016-04-05', '2016-04-15',\n",
       "        '2016-04-13', '2016-04-19', '2016-04-04', '2016-04-18',\n",
       "        '2016-04-26', '2016-04-11', '2016-04-25', '2016-04-27',\n",
       "        '2016-04-08', '2016-04-07', '2016-04-21', '2016-04-28',\n",
       "        '2016-04-20', '2016-04-14', '2016-05-23', '2016-05-05',\n",
       "        '2016-05-17', '2016-05-19', '2016-05-12', '2016-05-06',\n",
       "        '2016-05-03', '2016-05-20', '2016-05-02', '2016-05-16',\n",
       "        '2016-05-18', '2016-05-04', '2016-05-13', '2016-05-24',\n",
       "        '2016-05-27', '2016-05-10', '2016-05-30', '2016-05-25',\n",
       "        '2016-05-11', '2016-05-09', '2016-05-26'], dtype=object),\n",
       " array([nan, '2016-06-03', '2016-06-24', '2016-06-22', '2016-06-02',\n",
       "        '2016-06-14', '2016-06-07', '2016-06-28', '2016-06-27',\n",
       "        '2016-06-20', '2016-06-10', '2016-06-01', '2016-06-08',\n",
       "        '2016-06-17', '2016-06-06', '2016-06-23', '2016-06-21',\n",
       "        '2016-06-29', '2016-06-16', '2016-06-09', '2016-06-15',\n",
       "        '2016-06-13'], dtype=object))"
      ]
     },
     "execution_count": 56,
     "metadata": {},
     "output_type": "execute_result"
    }
   ],
   "source": [
    "train[\"ult_fec_cli_1t\"].unique(), test[\"ult_fec_cli_1t\"].unique()"
   ]
  },
  {
   "cell_type": "code",
   "execution_count": 57,
   "metadata": {
    "ExecuteTime": {
     "end_time": "2020-07-10T02:18:01.095599Z",
     "start_time": "2020-07-10T02:18:00.629845Z"
    }
   },
   "outputs": [
    {
     "data": {
      "text/plain": [
       "2015-12-24    763\n",
       "2015-12-28    521\n",
       "2015-07-09    443\n",
       "2015-07-06    405\n",
       "2015-07-01    401\n",
       "             ... \n",
       "2015-08-19     44\n",
       "2016-04-28     44\n",
       "2015-08-06     41\n",
       "2016-01-04     34\n",
       "2015-12-23     27\n",
       "Name: ult_fec_cli_1t, Length: 223, dtype: int64"
      ]
     },
     "execution_count": 57,
     "metadata": {},
     "output_type": "execute_result"
    }
   ],
   "source": [
    "train[\"ult_fec_cli_1t\"].value_counts()"
   ]
  },
  {
   "cell_type": "code",
   "execution_count": 58,
   "metadata": {
    "ExecuteTime": {
     "end_time": "2020-07-10T02:18:04.856565Z",
     "start_time": "2020-07-10T02:18:04.817644Z"
    }
   },
   "outputs": [
    {
     "data": {
      "text/plain": [
       "2016-06-01    138\n",
       "2016-06-10    133\n",
       "2016-06-03    110\n",
       "2016-06-07    102\n",
       "2016-06-06    101\n",
       "2016-06-13     84\n",
       "2016-06-20     84\n",
       "2016-06-15     78\n",
       "2016-06-23     78\n",
       "2016-06-17     78\n",
       "2016-06-14     76\n",
       "2016-06-09     75\n",
       "2016-06-02     75\n",
       "2016-06-22     72\n",
       "2016-06-21     70\n",
       "2016-06-24     64\n",
       "2016-06-16     62\n",
       "2016-06-08     60\n",
       "2016-06-27     58\n",
       "2016-06-28     49\n",
       "2016-06-29     36\n",
       "Name: ult_fec_cli_1t, dtype: int64"
      ]
     },
     "execution_count": 58,
     "metadata": {},
     "output_type": "execute_result"
    }
   ],
   "source": [
    "test[\"ult_fec_cli_1t\"].value_counts()"
   ]
  },
  {
   "cell_type": "code",
   "execution_count": 59,
   "metadata": {
    "ExecuteTime": {
     "end_time": "2020-07-10T02:18:14.489454Z",
     "start_time": "2020-07-10T02:18:12.034042Z"
    }
   },
   "outputs": [],
   "source": [
    "# ult_fec_cli_1t column은 nan값이 너무 많다...\n",
    "train.drop(labels = \"ult_fec_cli_1t\", axis = 1, inplace = True)\n",
    "test.drop(labels = \"ult_fec_cli_1t\", axis = 1, inplace = True)"
   ]
  },
  {
   "cell_type": "code",
   "execution_count": 60,
   "metadata": {
    "ExecuteTime": {
     "end_time": "2020-07-10T02:18:23.132167Z",
     "start_time": "2020-07-10T02:18:22.410094Z"
    }
   },
   "outputs": [
    {
     "data": {
      "text/plain": [
       "(array([1.0, nan, 3.0, 2.0, '1.0', '1', '3', '3.0', '2.0', '4.0', 'P', '4',\n",
       "        4.0, '2'], dtype=object),\n",
       " array([ 1.,  3., nan]))"
      ]
     },
     "execution_count": 60,
     "metadata": {},
     "output_type": "execute_result"
    }
   ],
   "source": [
    "train[\"indrel_1mes\"].unique(), test[\"indrel_1mes\"].unique()"
   ]
  },
  {
   "cell_type": "code",
   "execution_count": 61,
   "metadata": {
    "ExecuteTime": {
     "end_time": "2020-07-10T02:18:35.448136Z",
     "start_time": "2020-07-10T02:18:34.618348Z"
    }
   },
   "outputs": [
    {
     "data": {
      "text/plain": [
       "1.0    7277607\n",
       "1.0    4017746\n",
       "1      2195328\n",
       "3.0       1804\n",
       "3.0       1409\n",
       "3         1137\n",
       "P          874\n",
       "2          483\n",
       "2.0        479\n",
       "2.0        355\n",
       "4.0        143\n",
       "4.0         93\n",
       "4           70\n",
       "Name: indrel_1mes, dtype: int64"
      ]
     },
     "execution_count": 61,
     "metadata": {},
     "output_type": "execute_result"
    }
   ],
   "source": [
    "train[\"indrel_1mes\"].value_counts()"
   ]
  },
  {
   "cell_type": "code",
   "execution_count": 62,
   "metadata": {
    "ExecuteTime": {
     "end_time": "2020-07-10T02:18:39.067484Z",
     "start_time": "2020-07-10T02:18:39.054518Z"
    }
   },
   "outputs": [
    {
     "data": {
      "text/plain": [
       "1.0    929565\n",
       "3.0        27\n",
       "Name: indrel_1mes, dtype: int64"
      ]
     },
     "execution_count": 62,
     "metadata": {},
     "output_type": "execute_result"
    }
   ],
   "source": [
    "test[\"indrel_1mes\"].value_counts()"
   ]
  },
  {
   "cell_type": "code",
   "execution_count": 63,
   "metadata": {
    "ExecuteTime": {
     "end_time": "2020-07-10T02:19:05.394073Z",
     "start_time": "2020-07-10T02:19:02.714241Z"
    }
   },
   "outputs": [
    {
     "name": "stdout",
     "output_type": "stream",
     "text": [
      "False\n",
      "False\n"
     ]
    }
   ],
   "source": [
    "indrel_dict = {1.0 : \"1\", 3.0 : \"3\", 2.0 : \"2\", '1.0' : \"1\", '3.0' : \"3\", '2.0' : \"2\",\n",
    "               '4.0' : \"4\", 4.0 : \"4\"}\n",
    "\n",
    "train[\"indrel_1mes\"].apply(lambda x : indrel_dict.get(x , x))\n",
    "train[\"indrel_1mes\"].fillna(value = \"P\", inplace = True)\n",
    "\n",
    "print(train[\"indrel_1mes\"].isnull().any())\n",
    "\n",
    "test[\"indrel_1mes\"].fillna(value = \"P\", inplace = True)\n",
    "\n",
    "print(test[\"indrel_1mes\"].isnull().any())"
   ]
  },
  {
   "cell_type": "code",
   "execution_count": 65,
   "metadata": {
    "ExecuteTime": {
     "end_time": "2020-07-10T02:19:15.206725Z",
     "start_time": "2020-07-10T02:19:14.890591Z"
    }
   },
   "outputs": [
    {
     "data": {
      "text/plain": [
       "(array(['A', 'I', nan, 'P', 'R', 'N'], dtype=object),\n",
       " array(['A', 'I', 'P', nan], dtype=object))"
      ]
     },
     "execution_count": 65,
     "metadata": {},
     "output_type": "execute_result"
    }
   ],
   "source": [
    "train[\"tiprel_1mes\"].unique(), test[\"tiprel_1mes\"].unique()"
   ]
  },
  {
   "cell_type": "code",
   "execution_count": 66,
   "metadata": {
    "ExecuteTime": {
     "end_time": "2020-07-10T02:19:19.454255Z",
     "start_time": "2020-07-10T02:19:18.799979Z"
    }
   },
   "outputs": [
    {
     "data": {
      "text/plain": [
       "I    7304875\n",
       "A    6187123\n",
       "P       4656\n",
       "R        870\n",
       "N          4\n",
       "Name: tiprel_1mes, dtype: int64"
      ]
     },
     "execution_count": 66,
     "metadata": {},
     "output_type": "execute_result"
    }
   ],
   "source": [
    "train[\"tiprel_1mes\"].value_counts()"
   ]
  },
  {
   "cell_type": "code",
   "execution_count": 67,
   "metadata": {
    "ExecuteTime": {
     "end_time": "2020-07-10T02:19:41.425526Z",
     "start_time": "2020-07-10T02:19:41.369650Z"
    }
   },
   "outputs": [
    {
     "data": {
      "text/plain": [
       "I    535943\n",
       "A    393622\n",
       "P        27\n",
       "Name: tiprel_1mes, dtype: int64"
      ]
     },
     "execution_count": 67,
     "metadata": {},
     "output_type": "execute_result"
    }
   ],
   "source": [
    "test[\"tiprel_1mes\"].value_counts()"
   ]
  },
  {
   "cell_type": "code",
   "execution_count": 68,
   "metadata": {
    "ExecuteTime": {
     "end_time": "2020-07-10T02:19:48.692068Z",
     "start_time": "2020-07-10T02:19:47.973977Z"
    }
   },
   "outputs": [
    {
     "name": "stdout",
     "output_type": "stream",
     "text": [
      "False\n",
      "False\n"
     ]
    }
   ],
   "source": [
    "train[\"tiprel_1mes\"].fillna(value = \"I\", inplace = True)\n",
    "print(train[\"tiprel_1mes\"].isnull().any())\n",
    "\n",
    "test[\"tiprel_1mes\"].fillna(value = \"I\", inplace = True)\n",
    "print(test[\"tiprel_1mes\"].isnull().any())"
   ]
  },
  {
   "cell_type": "code",
   "execution_count": 69,
   "metadata": {
    "ExecuteTime": {
     "end_time": "2020-07-10T02:19:52.605600Z",
     "start_time": "2020-07-10T02:19:52.315374Z"
    }
   },
   "outputs": [
    {
     "data": {
      "text/plain": [
       "array(['S', nan, 'N'], dtype=object)"
      ]
     },
     "execution_count": 69,
     "metadata": {},
     "output_type": "execute_result"
    }
   ],
   "source": [
    "train[\"indresi\"].unique()"
   ]
  },
  {
   "cell_type": "code",
   "execution_count": 70,
   "metadata": {
    "ExecuteTime": {
     "end_time": "2020-07-10T02:19:56.878265Z",
     "start_time": "2020-07-10T02:19:56.221894Z"
    }
   },
   "outputs": [
    {
     "data": {
      "text/plain": [
       "S    13553711\n",
       "N       65864\n",
       "Name: indresi, dtype: int64"
      ]
     },
     "execution_count": 70,
     "metadata": {},
     "output_type": "execute_result"
    }
   ],
   "source": [
    "train[\"indresi\"].value_counts()"
   ]
  },
  {
   "cell_type": "code",
   "execution_count": 71,
   "metadata": {
    "ExecuteTime": {
     "end_time": "2020-07-10T02:20:01.160711Z",
     "start_time": "2020-07-10T02:20:00.483497Z"
    }
   },
   "outputs": [
    {
     "name": "stdout",
     "output_type": "stream",
     "text": [
      "False\n"
     ]
    }
   ],
   "source": [
    "train[\"indresi\"].fillna(value = \"S\", inplace = True)\n",
    "print(train[\"indresi\"].isnull().any())"
   ]
  },
  {
   "cell_type": "code",
   "execution_count": 72,
   "metadata": {
    "ExecuteTime": {
     "end_time": "2020-07-10T02:20:05.068517Z",
     "start_time": "2020-07-10T02:20:04.779320Z"
    }
   },
   "outputs": [
    {
     "data": {
      "text/plain": [
       "array(['N', 'S', nan], dtype=object)"
      ]
     },
     "execution_count": 72,
     "metadata": {},
     "output_type": "execute_result"
    }
   ],
   "source": [
    "train[\"indext\"].unique()"
   ]
  },
  {
   "cell_type": "code",
   "execution_count": 73,
   "metadata": {
    "ExecuteTime": {
     "end_time": "2020-07-10T02:20:09.375020Z",
     "start_time": "2020-07-10T02:20:08.716759Z"
    }
   },
   "outputs": [
    {
     "data": {
      "text/plain": [
       "N    12974839\n",
       "S      644736\n",
       "Name: indext, dtype: int64"
      ]
     },
     "execution_count": 73,
     "metadata": {},
     "output_type": "execute_result"
    }
   ],
   "source": [
    "train[\"indext\"].value_counts()"
   ]
  },
  {
   "cell_type": "code",
   "execution_count": 74,
   "metadata": {
    "ExecuteTime": {
     "end_time": "2020-07-10T02:20:13.678559Z",
     "start_time": "2020-07-10T02:20:13.003295Z"
    }
   },
   "outputs": [
    {
     "name": "stdout",
     "output_type": "stream",
     "text": [
      "False\n"
     ]
    }
   ],
   "source": [
    "train[\"indext\"].fillna(value = \"N\", inplace = True)\n",
    "print(train[\"indext\"].isnull().any())"
   ]
  },
  {
   "cell_type": "code",
   "execution_count": 75,
   "metadata": {
    "ExecuteTime": {
     "end_time": "2020-07-10T02:20:19.896586Z",
     "start_time": "2020-07-10T02:20:17.285569Z"
    }
   },
   "outputs": [],
   "source": [
    "# conyuemp column은 nan값이 너무 많다...\n",
    "train.drop(labels = \"conyuemp\", axis = 1, inplace = True)\n",
    "test.drop(labels = \"conyuemp\", axis = 1, inplace = True)"
   ]
  },
  {
   "cell_type": "code",
   "execution_count": 76,
   "metadata": {
    "ExecuteTime": {
     "end_time": "2020-07-10T02:20:24.043509Z",
     "start_time": "2020-07-10T02:20:23.608499Z"
    }
   },
   "outputs": [
    {
     "data": {
      "text/plain": [
       "(array(['KHL', 'KHE', 'KHD', 'KFA', 'KFC', 'KAT', nan, 'KAZ', 'RED', 'KHC',\n",
       "        'KHK', 'KGN', 'KHM', 'KHO', 'KDH', 'KEH', 'KAD', 'KBG', 'KGC',\n",
       "        'KHF', 'KFK', 'KHN', 'KHA', 'KAF', 'KGX', 'KFD', 'KAG', 'KFG',\n",
       "        'KAB', 'KCC', 'KAE', 'KAH', 'KAR', 'KFJ', 'KFL', 'KAI', 'KFU',\n",
       "        'KAQ', 'KFS', 'KAA', 'KFP', 'KAJ', 'KFN', 'KGV', 'KGY', 'KFF',\n",
       "        'KAP', 'KDE', 'KFV', '013', 'K00', 'KAK', 'KCK', 'KCL', 'KAY',\n",
       "        'KBU', 'KDR', 'KAC', 'KDT', 'KCG', 'KDO', 'KDY', 'KBQ', 'KDA',\n",
       "        'KBO', 'KCI', 'KEC', 'KBZ', 'KES', 'KDX', 'KAS', '007', 'KEU',\n",
       "        'KCA', 'KAL', 'KDC', 'KAW', 'KCS', 'KCB', 'KDU', 'KDQ', 'KCN',\n",
       "        'KCM', '004', 'KCH', 'KCD', 'KCE', 'KEV', 'KBL', 'KEA', 'KBH',\n",
       "        'KDV', 'KFT', 'KEY', 'KAO', 'KEJ', 'KEO', 'KEI', 'KEW', 'KDZ',\n",
       "        'KBV', 'KBR', 'KBF', 'KDP', 'KCO', 'KCF', 'KCV', 'KAM', 'KEZ',\n",
       "        'KBD', 'KAN', 'KBY', 'KCT', 'KDD', 'KBW', 'KCU', 'KBX', 'KDB',\n",
       "        'KBS', 'KBE', 'KCX', 'KBP', 'KBN', 'KEB', 'KDS', 'KEL', 'KDG',\n",
       "        'KDF', 'KEF', 'KCP', 'KDM', 'KBB', 'KDW', 'KBJ', 'KFI', 'KBM',\n",
       "        'KEG', 'KEN', 'KEQ', 'KAV', 'KFH', 'KFM', 'KAU', 'KED', 'KFR',\n",
       "        'KEK', 'KFB', 'KGW', 'KFE', 'KGU', 'KDI', 'KDN', 'KEE', 'KCR',\n",
       "        'KCQ', 'KEM', 'KCJ', 'KHQ', 'KDL', '025', 'KHP', 'KHR', 'KHS'],\n",
       "       dtype=object),\n",
       " array(['KAT', 'KHE', 'KFC', 'KHN', 'KFA', 'KHM', 'KHL', 'RED', 'KHQ',\n",
       "        'KHO', 'KHK', 'KAZ', 'KEH', 'KBG', 'KHF', 'KHC', 'KHD', nan, 'KAK',\n",
       "        'KAD', 'KDH', 'KGC', 'KFK', 'KGN', 'KHP', 'KHS', '013', 'KFD',\n",
       "        'KEW', 'KEG', 'KAE', 'KAB', 'KAG', 'KCC', 'KAF', 'KAC', 'KAY',\n",
       "        'KES', 'KDU', 'KAA', 'KAP', 'KEN', 'KBZ', 'KEY', '007', 'KBJ',\n",
       "        'KDM', 'KFP', 'KDR', 'KAN', 'KEV', 'KCH', 'KAR', 'KAI', 'KAS',\n",
       "        'KCI', 'KFJ', 'KCF', 'KAQ', 'KAJ', 'KEJ', 'KEL', 'KFT', '025',\n",
       "        'KAH', 'KAW', 'KFS', 'KDT', 'KGV', 'KFG', 'KAL', 'KGY', 'KCM',\n",
       "        'KCB', 'KDQ', 'KFN', 'KGX', 'KBR', 'KEZ', 'KCG', 'KAO', 'KEU',\n",
       "        'KCL', 'KBM', 'KFF', 'KFI', 'KFL', 'KFH', 'KCU', 'KBH', 'KBB',\n",
       "        'KCO', 'KEI', 'KDY', 'KCD', 'KBO', 'KEA', 'KBL', 'KDO', 'KCA',\n",
       "        'KBU', 'KBQ', 'KDV', 'KCK', 'KDC', '004', 'KCE', 'KDE', 'KEC',\n",
       "        'KDX', 'KDA', 'KDS', 'KFU', 'KEB', 'KDG', 'KAM', 'KDF', 'KCN',\n",
       "        'KDZ', 'KCS', 'KCR', 'KDW', 'KEO', 'KFM', 'KEK', 'KED', 'KDN',\n",
       "        'KBF', 'KGW', 'KCQ', 'KEQ', 'KBW', 'KBE', 'KAV', 'KBY', 'KFV',\n",
       "        'KBS', 'KDP', 'KFE', 'KBD', 'KBV', 'KDD', 'KEF', 'KCP', 'KBX',\n",
       "        'KDB', 'KBN', 'KCT', 'KCV', 'KBP', 'KCX', 'KAU', 'KFR', 'KDI',\n",
       "        'KFB', 'KGU', 'KHA', 'K00', 'KEE', 'KHR', 'KCJ', 'KEM', 'KDL'],\n",
       "       dtype=object))"
      ]
     },
     "execution_count": 76,
     "metadata": {},
     "output_type": "execute_result"
    }
   ],
   "source": [
    "train[\"canal_entrada\"].unique(), test[\"canal_entrada\"].unique()"
   ]
  },
  {
   "cell_type": "code",
   "execution_count": 77,
   "metadata": {
    "ExecuteTime": {
     "end_time": "2020-07-10T02:24:50.473340Z",
     "start_time": "2020-07-10T02:24:49.686465Z"
    }
   },
   "outputs": [
    {
     "data": {
      "text/plain": [
       "KHE    4055270\n",
       "KAT    3268209\n",
       "KFC    3098360\n",
       "KHQ     591039\n",
       "KFA     409669\n",
       "        ...   \n",
       "KGN         17\n",
       "KDL         11\n",
       "025         11\n",
       "KHS          5\n",
       "KHR          1\n",
       "Name: canal_entrada, Length: 162, dtype: int64"
      ]
     },
     "execution_count": 77,
     "metadata": {},
     "output_type": "execute_result"
    }
   ],
   "source": [
    "train[\"canal_entrada\"].value_counts()"
   ]
  },
  {
   "cell_type": "code",
   "execution_count": 78,
   "metadata": {
    "ExecuteTime": {
     "end_time": "2020-07-10T02:24:54.851632Z",
     "start_time": "2020-07-10T02:24:54.163470Z"
    }
   },
   "outputs": [
    {
     "name": "stdout",
     "output_type": "stream",
     "text": [
      "False\n"
     ]
    }
   ],
   "source": [
    "train[\"canal_entrada\"].fillna(value = \"KHE\", inplace = True)\n",
    "print(train[\"canal_entrada\"].isnull().any())"
   ]
  },
  {
   "cell_type": "code",
   "execution_count": 79,
   "metadata": {
    "ExecuteTime": {
     "end_time": "2020-07-10T02:24:58.626533Z",
     "start_time": "2020-07-10T02:24:58.567690Z"
    }
   },
   "outputs": [
    {
     "data": {
      "text/plain": [
       "KHE    251665\n",
       "KAT    205833\n",
       "KFC    200697\n",
       "KHQ     74969\n",
       "KHM     33384\n",
       "        ...  \n",
       "KHR         1\n",
       "025         1\n",
       "KDB         1\n",
       "KGN         1\n",
       "KDL         1\n",
       "Name: canal_entrada, Length: 162, dtype: int64"
      ]
     },
     "execution_count": 79,
     "metadata": {},
     "output_type": "execute_result"
    }
   ],
   "source": [
    "test[\"canal_entrada\"].value_counts()"
   ]
  },
  {
   "cell_type": "code",
   "execution_count": 80,
   "metadata": {
    "ExecuteTime": {
     "end_time": "2020-07-10T02:25:07.932800Z",
     "start_time": "2020-07-10T02:25:07.876901Z"
    }
   },
   "outputs": [
    {
     "name": "stdout",
     "output_type": "stream",
     "text": [
      "False\n"
     ]
    }
   ],
   "source": [
    "test[\"canal_entrada\"].fillna(value = \"KHE\", inplace = True)\n",
    "print(test[\"canal_entrada\"].isnull().any())"
   ]
  },
  {
   "cell_type": "code",
   "execution_count": 81,
   "metadata": {
    "ExecuteTime": {
     "end_time": "2020-07-10T02:25:12.658236Z",
     "start_time": "2020-07-10T02:25:12.366039Z"
    }
   },
   "outputs": [
    {
     "data": {
      "text/plain": [
       "array(['N', nan, 'S'], dtype=object)"
      ]
     },
     "execution_count": 81,
     "metadata": {},
     "output_type": "execute_result"
    }
   ],
   "source": [
    "train[\"indfall\"].unique()"
   ]
  },
  {
   "cell_type": "code",
   "execution_count": 82,
   "metadata": {
    "ExecuteTime": {
     "end_time": "2020-07-10T02:25:17.025674Z",
     "start_time": "2020-07-10T02:25:16.367407Z"
    }
   },
   "outputs": [
    {
     "data": {
      "text/plain": [
       "N    13584813\n",
       "S       34762\n",
       "Name: indfall, dtype: int64"
      ]
     },
     "execution_count": 82,
     "metadata": {},
     "output_type": "execute_result"
    }
   ],
   "source": [
    "train[\"indfall\"].value_counts()"
   ]
  },
  {
   "cell_type": "code",
   "execution_count": 83,
   "metadata": {
    "ExecuteTime": {
     "end_time": "2020-07-10T02:25:21.409951Z",
     "start_time": "2020-07-10T02:25:20.732731Z"
    }
   },
   "outputs": [
    {
     "name": "stdout",
     "output_type": "stream",
     "text": [
      "False\n"
     ]
    }
   ],
   "source": [
    "train[\"indfall\"].fillna(value = \"N\", inplace = True)\n",
    "print(train[\"indfall\"].isnull().any())"
   ]
  },
  {
   "cell_type": "code",
   "execution_count": 84,
   "metadata": {
    "ExecuteTime": {
     "end_time": "2020-07-10T02:25:25.167896Z",
     "start_time": "2020-07-10T02:25:25.084093Z"
    }
   },
   "outputs": [
    {
     "data": {
      "text/plain": [
       "array([ 1., nan])"
      ]
     },
     "execution_count": 84,
     "metadata": {},
     "output_type": "execute_result"
    }
   ],
   "source": [
    "train[\"tipodom\"].unique()"
   ]
  },
  {
   "cell_type": "code",
   "execution_count": 85,
   "metadata": {
    "ExecuteTime": {
     "end_time": "2020-07-10T02:25:28.984661Z",
     "start_time": "2020-07-10T02:25:28.844037Z"
    }
   },
   "outputs": [
    {
     "data": {
      "text/plain": [
       "1.0    13619574\n",
       "Name: tipodom, dtype: int64"
      ]
     },
     "execution_count": 85,
     "metadata": {},
     "output_type": "execute_result"
    }
   ],
   "source": [
    "train[\"tipodom\"].value_counts()"
   ]
  },
  {
   "cell_type": "code",
   "execution_count": 86,
   "metadata": {
    "ExecuteTime": {
     "end_time": "2020-07-10T02:25:32.656840Z",
     "start_time": "2020-07-10T02:25:32.647864Z"
    }
   },
   "outputs": [
    {
     "data": {
      "text/plain": [
       "array([1], dtype=int64)"
      ]
     },
     "execution_count": 86,
     "metadata": {},
     "output_type": "execute_result"
    }
   ],
   "source": [
    "test[\"tipodom\"].unique()"
   ]
  },
  {
   "cell_type": "code",
   "execution_count": 87,
   "metadata": {
    "ExecuteTime": {
     "end_time": "2020-07-10T02:25:45.265337Z",
     "start_time": "2020-07-10T02:25:42.849819Z"
    }
   },
   "outputs": [],
   "source": [
    "# tipodom column은.. 1 아님 nan인데 1이 압도적으로 많고 모두 같은 값이므로 가져갈 필요가 없다..\n",
    "train.drop(labels = \"tipodom\", axis = 1, inplace = True)\n",
    "test.drop(labels = \"tipodom\", axis = 1, inplace = True)"
   ]
  },
  {
   "cell_type": "code",
   "execution_count": 88,
   "metadata": {
    "ExecuteTime": {
     "end_time": "2020-07-10T02:25:49.075320Z",
     "start_time": "2020-07-10T02:25:48.988527Z"
    }
   },
   "outputs": [
    {
     "data": {
      "text/plain": [
       "array([29., 13., 50., 45., 24., 20., 10., 17., 49.,  8., 37.,  9., 22.,\n",
       "       31.,  5., 40., 27., 25., 28.,  3., 42., 41., 39.,  7., 47., 36.,\n",
       "       46., 44., 15., 32., 23., 16., 48., 12., 26.,  2.,  6., 30., 11.,\n",
       "       nan,  4., 19., 34., 35., 14., 21., 18., 33., 38., 52., 43.,  1.,\n",
       "       51.])"
      ]
     },
     "execution_count": 88,
     "metadata": {},
     "output_type": "execute_result"
    }
   ],
   "source": [
    "train[\"cod_prov\"].unique()"
   ]
  },
  {
   "cell_type": "code",
   "execution_count": 89,
   "metadata": {
    "ExecuteTime": {
     "end_time": "2020-07-10T02:25:52.897073Z",
     "start_time": "2020-07-10T02:25:52.730519Z"
    },
    "scrolled": true
   },
   "outputs": [
    {
     "data": {
      "text/plain": [
       "28.0    4409600\n",
       "8.0     1275219\n",
       "46.0     682304\n",
       "41.0     605164\n",
       "15.0     429322\n",
       "30.0     396759\n",
       "29.0     367023\n",
       "50.0     342543\n",
       "3.0      313397\n",
       "11.0     294684\n",
       "36.0     280026\n",
       "33.0     265749\n",
       "47.0     238259\n",
       "35.0     235700\n",
       "6.0      192996\n",
       "48.0     185888\n",
       "45.0     183067\n",
       "18.0     178562\n",
       "37.0     164238\n",
       "39.0     155706\n",
       "14.0     144679\n",
       "10.0     129912\n",
       "7.0      124933\n",
       "21.0     122283\n",
       "13.0     119390\n",
       "2.0      114128\n",
       "12.0     104295\n",
       "43.0     100115\n",
       "9.0       97188\n",
       "17.0      90538\n",
       "31.0      88618\n",
       "26.0      85202\n",
       "27.0      84962\n",
       "32.0      84009\n",
       "24.0      83003\n",
       "25.0      79059\n",
       "20.0      71567\n",
       "38.0      70968\n",
       "19.0      64618\n",
       "23.0      64363\n",
       "4.0       60291\n",
       "16.0      57310\n",
       "49.0      50927\n",
       "34.0      49282\n",
       "40.0      42341\n",
       "22.0      40181\n",
       "5.0       38783\n",
       "1.0       37704\n",
       "44.0      22525\n",
       "42.0      17660\n",
       "52.0       9460\n",
       "51.0       7218\n",
       "Name: cod_prov, dtype: int64"
      ]
     },
     "execution_count": 89,
     "metadata": {},
     "output_type": "execute_result"
    }
   ],
   "source": [
    "train[\"cod_prov\"].value_counts()"
   ]
  },
  {
   "cell_type": "code",
   "execution_count": 98,
   "metadata": {
    "ExecuteTime": {
     "end_time": "2020-07-09T06:16:36.713483Z",
     "start_time": "2020-07-09T06:16:36.670595Z"
    }
   },
   "outputs": [
    {
     "name": "stdout",
     "output_type": "stream",
     "text": [
      "False\n"
     ]
    }
   ],
   "source": [
    "train[\"cod_prov\"].fillna(value = 28, inplace = True)\n",
    "print(train[\"cod_prov\"].isnull().any())"
   ]
  },
  {
   "cell_type": "code",
   "execution_count": 90,
   "metadata": {
    "ExecuteTime": {
     "end_time": "2020-07-10T02:26:02.335023Z",
     "start_time": "2020-07-10T02:26:02.322057Z"
    }
   },
   "outputs": [
    {
     "data": {
      "text/plain": [
       "array([28.,  3., 15.,  8.,  7., 35., 45., 14., 30., 16., 29., 23., 11.,\n",
       "       41., 46., 12.,  6., 32., 17., 18., 13., 39., 10., 52., 33., 50.,\n",
       "       22., 44., 27.,  9., 31., 47., 37., 26., 25., 24., 20., 43., 42.,\n",
       "        2., 40., 21., 36.,  4.,  5., 34., 19.,  1., 49., 38., nan, 48.,\n",
       "       51.])"
      ]
     },
     "execution_count": 90,
     "metadata": {},
     "output_type": "execute_result"
    }
   ],
   "source": [
    "test[\"cod_prov\"].unique()"
   ]
  },
  {
   "cell_type": "code",
   "execution_count": 91,
   "metadata": {
    "ExecuteTime": {
     "end_time": "2020-07-10T02:26:06.054584Z",
     "start_time": "2020-07-10T02:26:06.037628Z"
    },
    "scrolled": true
   },
   "outputs": [
    {
     "data": {
      "text/plain": [
       "28.0    298250\n",
       "8.0      88579\n",
       "46.0     47996\n",
       "41.0     40492\n",
       "15.0     28715\n",
       "30.0     27752\n",
       "29.0     24546\n",
       "50.0     23160\n",
       "3.0      22147\n",
       "11.0     19795\n",
       "36.0     18961\n",
       "33.0     18300\n",
       "35.0     16332\n",
       "47.0     16018\n",
       "6.0      12936\n",
       "45.0     12658\n",
       "48.0     12494\n",
       "18.0     12392\n",
       "37.0     11071\n",
       "39.0     10824\n",
       "14.0      9831\n",
       "7.0       9130\n",
       "10.0      8598\n",
       "13.0      8075\n",
       "21.0      8018\n",
       "2.0       7780\n",
       "43.0      7631\n",
       "12.0      7145\n",
       "9.0       6645\n",
       "17.0      6304\n",
       "31.0      6010\n",
       "26.0      5806\n",
       "24.0      5717\n",
       "27.0      5656\n",
       "32.0      5605\n",
       "25.0      5430\n",
       "38.0      5097\n",
       "20.0      4869\n",
       "19.0      4678\n",
       "23.0      4496\n",
       "4.0       4307\n",
       "16.0      3788\n",
       "49.0      3430\n",
       "34.0      3311\n",
       "40.0      2881\n",
       "22.0      2789\n",
       "5.0       2628\n",
       "1.0       2591\n",
       "44.0      1538\n",
       "42.0      1261\n",
       "52.0       643\n",
       "51.0       513\n",
       "Name: cod_prov, dtype: int64"
      ]
     },
     "execution_count": 91,
     "metadata": {},
     "output_type": "execute_result"
    }
   ],
   "source": [
    "test[\"cod_prov\"].value_counts()"
   ]
  },
  {
   "cell_type": "code",
   "execution_count": 92,
   "metadata": {
    "ExecuteTime": {
     "end_time": "2020-07-10T02:26:17.733454Z",
     "start_time": "2020-07-10T02:26:17.726452Z"
    }
   },
   "outputs": [
    {
     "name": "stdout",
     "output_type": "stream",
     "text": [
      "False\n"
     ]
    }
   ],
   "source": [
    "test[\"cod_prov\"].fillna(value = 28, inplace = True)\n",
    "print(test[\"cod_prov\"].isnull().any())"
   ]
  },
  {
   "cell_type": "code",
   "execution_count": 93,
   "metadata": {
    "ExecuteTime": {
     "end_time": "2020-07-10T02:26:21.933540Z",
     "start_time": "2020-07-10T02:26:21.443840Z"
    }
   },
   "outputs": [
    {
     "data": {
      "text/plain": [
       "array(['MALAGA', 'CIUDAD REAL', 'ZARAGOZA', 'TOLEDO', 'LEON', 'GIPUZKOA',\n",
       "       'CACERES', 'GIRONA', 'ZAMORA', 'BARCELONA', 'SALAMANCA', 'BURGOS',\n",
       "       'HUESCA', 'NAVARRA', 'AVILA', 'SEGOVIA', 'LUGO', 'LERIDA',\n",
       "       'MADRID', 'ALICANTE', 'SORIA', 'SEVILLA', 'CANTABRIA',\n",
       "       'BALEARS, ILLES', 'VALLADOLID', 'PONTEVEDRA', 'VALENCIA', 'TERUEL',\n",
       "       'CORUÑA, A', 'OURENSE', 'JAEN', 'CUENCA', 'BIZKAIA', 'CASTELLON',\n",
       "       'RIOJA, LA', 'ALBACETE', 'BADAJOZ', 'MURCIA', 'CADIZ', nan,\n",
       "       'ALMERIA', 'GUADALAJARA', 'PALENCIA', 'PALMAS, LAS', 'CORDOBA',\n",
       "       'HUELVA', 'GRANADA', 'ASTURIAS', 'SANTA CRUZ DE TENERIFE',\n",
       "       'MELILLA', 'TARRAGONA', 'ALAVA', 'CEUTA'], dtype=object)"
      ]
     },
     "execution_count": 93,
     "metadata": {},
     "output_type": "execute_result"
    }
   ],
   "source": [
    "train[\"nomprov\"].unique()"
   ]
  },
  {
   "cell_type": "code",
   "execution_count": 94,
   "metadata": {
    "ExecuteTime": {
     "end_time": "2020-07-10T02:26:26.487490Z",
     "start_time": "2020-07-10T02:26:25.616819Z"
    },
    "scrolled": true
   },
   "outputs": [
    {
     "data": {
      "text/plain": [
       "MADRID                    4409600\n",
       "BARCELONA                 1275219\n",
       "VALENCIA                   682304\n",
       "SEVILLA                    605164\n",
       "CORUÑA, A                  429322\n",
       "MURCIA                     396759\n",
       "MALAGA                     367023\n",
       "ZARAGOZA                   342543\n",
       "ALICANTE                   313397\n",
       "CADIZ                      294684\n",
       "PONTEVEDRA                 280026\n",
       "ASTURIAS                   265749\n",
       "VALLADOLID                 238259\n",
       "PALMAS, LAS                235700\n",
       "BADAJOZ                    192996\n",
       "BIZKAIA                    185888\n",
       "TOLEDO                     183067\n",
       "GRANADA                    178562\n",
       "SALAMANCA                  164238\n",
       "CANTABRIA                  155706\n",
       "CORDOBA                    144679\n",
       "CACERES                    129912\n",
       "BALEARS, ILLES             124933\n",
       "HUELVA                     122283\n",
       "CIUDAD REAL                119390\n",
       "ALBACETE                   114128\n",
       "CASTELLON                  104295\n",
       "TARRAGONA                  100115\n",
       "BURGOS                      97188\n",
       "GIRONA                      90538\n",
       "NAVARRA                     88618\n",
       "RIOJA, LA                   85202\n",
       "LUGO                        84962\n",
       "OURENSE                     84009\n",
       "LEON                        83003\n",
       "LERIDA                      79059\n",
       "GIPUZKOA                    71567\n",
       "SANTA CRUZ DE TENERIFE      70968\n",
       "GUADALAJARA                 64618\n",
       "JAEN                        64363\n",
       "ALMERIA                     60291\n",
       "CUENCA                      57310\n",
       "ZAMORA                      50927\n",
       "PALENCIA                    49282\n",
       "SEGOVIA                     42341\n",
       "HUESCA                      40181\n",
       "AVILA                       38783\n",
       "ALAVA                       37704\n",
       "TERUEL                      22525\n",
       "SORIA                       17660\n",
       "MELILLA                      9460\n",
       "CEUTA                        7218\n",
       "Name: nomprov, dtype: int64"
      ]
     },
     "execution_count": 94,
     "metadata": {},
     "output_type": "execute_result"
    }
   ],
   "source": [
    "train[\"nomprov\"].value_counts()"
   ]
  },
  {
   "cell_type": "code",
   "execution_count": 95,
   "metadata": {
    "ExecuteTime": {
     "end_time": "2020-07-10T02:26:30.261686Z",
     "start_time": "2020-07-10T02:26:30.224776Z"
    }
   },
   "outputs": [
    {
     "data": {
      "text/plain": [
       "array(['MADRID', 'ALICANTE', 'CORUÑA, A', 'BARCELONA', 'BALEARS, ILLES',\n",
       "       'PALMAS, LAS', 'TOLEDO', 'CORDOBA', 'MURCIA', 'CUENCA', 'MALAGA',\n",
       "       'JAEN', 'CADIZ', 'SEVILLA', 'VALENCIA', 'CASTELLON', 'BADAJOZ',\n",
       "       'OURENSE', 'GIRONA', 'GRANADA', 'CIUDAD REAL', 'CANTABRIA',\n",
       "       'CACERES', 'MELILLA', 'ASTURIAS', 'ZARAGOZA', 'HUESCA', 'TERUEL',\n",
       "       'LUGO', 'BURGOS', 'NAVARRA', 'VALLADOLID', 'SALAMANCA',\n",
       "       'RIOJA, LA', 'LERIDA', 'LEON', 'GIPUZKOA', 'TARRAGONA', 'SORIA',\n",
       "       'ALBACETE', 'SEGOVIA', 'HUELVA', 'PONTEVEDRA', 'ALMERIA', 'AVILA',\n",
       "       'PALENCIA', 'GUADALAJARA', 'ALAVA', 'ZAMORA',\n",
       "       'SANTA CRUZ DE TENERIFE', nan, 'BIZKAIA', 'CEUTA'], dtype=object)"
      ]
     },
     "execution_count": 95,
     "metadata": {},
     "output_type": "execute_result"
    }
   ],
   "source": [
    "test[\"nomprov\"].unique()"
   ]
  },
  {
   "cell_type": "code",
   "execution_count": 96,
   "metadata": {
    "ExecuteTime": {
     "end_time": "2020-07-10T02:26:39.456592Z",
     "start_time": "2020-07-10T02:26:39.385801Z"
    },
    "scrolled": true
   },
   "outputs": [
    {
     "data": {
      "text/plain": [
       "MADRID                    298250\n",
       "BARCELONA                  88579\n",
       "VALENCIA                   47996\n",
       "SEVILLA                    40492\n",
       "CORUÑA, A                  28715\n",
       "MURCIA                     27752\n",
       "MALAGA                     24546\n",
       "ZARAGOZA                   23160\n",
       "ALICANTE                   22147\n",
       "CADIZ                      19795\n",
       "PONTEVEDRA                 18961\n",
       "ASTURIAS                   18300\n",
       "PALMAS, LAS                16332\n",
       "VALLADOLID                 16018\n",
       "BADAJOZ                    12936\n",
       "TOLEDO                     12658\n",
       "BIZKAIA                    12494\n",
       "GRANADA                    12392\n",
       "SALAMANCA                  11071\n",
       "CANTABRIA                  10824\n",
       "CORDOBA                     9831\n",
       "BALEARS, ILLES              9130\n",
       "CACERES                     8598\n",
       "CIUDAD REAL                 8075\n",
       "HUELVA                      8018\n",
       "ALBACETE                    7780\n",
       "TARRAGONA                   7631\n",
       "CASTELLON                   7145\n",
       "BURGOS                      6645\n",
       "GIRONA                      6304\n",
       "NAVARRA                     6010\n",
       "RIOJA, LA                   5806\n",
       "LEON                        5717\n",
       "LUGO                        5656\n",
       "OURENSE                     5605\n",
       "LERIDA                      5430\n",
       "SANTA CRUZ DE TENERIFE      5097\n",
       "GIPUZKOA                    4869\n",
       "GUADALAJARA                 4678\n",
       "JAEN                        4496\n",
       "ALMERIA                     4307\n",
       "CUENCA                      3788\n",
       "ZAMORA                      3430\n",
       "PALENCIA                    3311\n",
       "SEGOVIA                     2881\n",
       "HUESCA                      2789\n",
       "AVILA                       2628\n",
       "ALAVA                       2591\n",
       "TERUEL                      1538\n",
       "SORIA                       1261\n",
       "MELILLA                      643\n",
       "CEUTA                        513\n",
       "Name: nomprov, dtype: int64"
      ]
     },
     "execution_count": 96,
     "metadata": {},
     "output_type": "execute_result"
    }
   ],
   "source": [
    "test[\"nomprov\"].value_counts()"
   ]
  },
  {
   "cell_type": "code",
   "execution_count": 97,
   "metadata": {
    "ExecuteTime": {
     "end_time": "2020-07-10T02:26:51.585621Z",
     "start_time": "2020-07-10T02:26:50.919425Z"
    }
   },
   "outputs": [
    {
     "name": "stdout",
     "output_type": "stream",
     "text": [
      "False\n"
     ]
    }
   ],
   "source": [
    "train[\"nomprov\"].fillna(value = \"MADRID\", inplace = True)\n",
    "print(train[\"nomprov\"].isnull().any())"
   ]
  },
  {
   "cell_type": "code",
   "execution_count": 98,
   "metadata": {
    "ExecuteTime": {
     "end_time": "2020-07-10T02:26:55.267800Z",
     "start_time": "2020-07-10T02:26:55.216908Z"
    }
   },
   "outputs": [
    {
     "name": "stdout",
     "output_type": "stream",
     "text": [
      "False\n"
     ]
    }
   ],
   "source": [
    "test[\"nomprov\"].fillna(value = \"MADRID\", inplace = True)\n",
    "print(test[\"nomprov\"].isnull().any())"
   ]
  },
  {
   "cell_type": "code",
   "execution_count": 99,
   "metadata": {
    "ExecuteTime": {
     "end_time": "2020-07-10T02:26:59.044697Z",
     "start_time": "2020-07-10T02:26:58.926018Z"
    }
   },
   "outputs": [
    {
     "data": {
      "text/plain": [
       "array([ 1.,  0., nan])"
      ]
     },
     "execution_count": 99,
     "metadata": {},
     "output_type": "execute_result"
    }
   ],
   "source": [
    "train[\"ind_actividad_cliente\"].unique()"
   ]
  },
  {
   "cell_type": "code",
   "execution_count": 100,
   "metadata": {
    "ExecuteTime": {
     "end_time": "2020-07-10T02:27:02.900382Z",
     "start_time": "2020-07-10T02:27:02.728817Z"
    }
   },
   "outputs": [
    {
     "data": {
      "text/plain": [
       "0.0    7384390\n",
       "1.0    6235185\n",
       "Name: ind_actividad_cliente, dtype: int64"
      ]
     },
     "execution_count": 100,
     "metadata": {},
     "output_type": "execute_result"
    }
   ],
   "source": [
    "train[\"ind_actividad_cliente\"].value_counts()"
   ]
  },
  {
   "cell_type": "code",
   "execution_count": 101,
   "metadata": {
    "ExecuteTime": {
     "end_time": "2020-07-10T02:27:06.844836Z",
     "start_time": "2020-07-10T02:27:06.574532Z"
    }
   },
   "outputs": [
    {
     "name": "stdout",
     "output_type": "stream",
     "text": [
      "False\n"
     ]
    }
   ],
   "source": [
    "train[\"ind_actividad_cliente\"].fillna(value = train[\"ind_actividad_cliente\"].median(), inplace = True)\n",
    "print(train[\"ind_actividad_cliente\"].isnull().any())"
   ]
  },
  {
   "cell_type": "code",
   "execution_count": 102,
   "metadata": {
    "ExecuteTime": {
     "end_time": "2020-07-10T02:27:10.854086Z",
     "start_time": "2020-07-10T02:27:10.548901Z"
    }
   },
   "outputs": [
    {
     "data": {
      "text/plain": [
       "array([ 87218.1 ,  35548.74, 122179.11, ...,  63867.66,  34341.18,\n",
       "        89018.37])"
      ]
     },
     "execution_count": 102,
     "metadata": {},
     "output_type": "execute_result"
    }
   ],
   "source": [
    "train[\"renta\"].unique()"
   ]
  },
  {
   "cell_type": "code",
   "execution_count": 103,
   "metadata": {
    "ExecuteTime": {
     "end_time": "2020-07-10T02:27:15.215198Z",
     "start_time": "2020-07-10T02:27:14.557952Z"
    }
   },
   "outputs": [
    {
     "data": {
      "text/plain": [
       "451931.22    5582\n",
       "463625.16    1743\n",
       "181042.20    1493\n",
       "128318.52    1404\n",
       "105260.88    1354\n",
       "             ... \n",
       "167020.08       1\n",
       "127111.23       1\n",
       "70889.04        1\n",
       "94128.15        1\n",
       "106552.89       1\n",
       "Name: renta, Length: 520994, dtype: int64"
      ]
     },
     "execution_count": 103,
     "metadata": {},
     "output_type": "execute_result"
    }
   ],
   "source": [
    "train[\"renta\"].value_counts()"
   ]
  },
  {
   "cell_type": "code",
   "execution_count": 104,
   "metadata": {
    "ExecuteTime": {
     "end_time": "2020-07-10T02:27:33.384652Z",
     "start_time": "2020-07-10T02:27:18.928317Z"
    },
    "scrolled": true
   },
   "outputs": [
    {
     "name": "stdout",
     "output_type": "stream",
     "text": [
      "True\n"
     ]
    }
   ],
   "source": [
    "# renta column은 household income이니까.. 지역별 평균을 null값에 넣어주자..\n",
    "\n",
    "for code in train[\"cod_prov\"].unique() :\n",
    "#     print(code)\n",
    "    \n",
    "    renta_mean = train[train[\"cod_prov\"] == code][\"renta\"].mean()\n",
    "    \n",
    "    train.loc[(train[\"renta\"].isnull()) & (train[\"cod_prov\"] == code), \"renta\"] = renta_mean\n",
    "    \n",
    "print(train[\"renta\"].isnull().any())"
   ]
  },
  {
   "cell_type": "code",
   "execution_count": 121,
   "metadata": {
    "ExecuteTime": {
     "end_time": "2020-07-10T02:33:30.628475Z",
     "start_time": "2020-07-10T02:33:30.526747Z"
    }
   },
   "outputs": [
    {
     "data": {
      "text/plain": [
       "array(['  326124.90', '         NA', '  148402.98', ..., '  139164.12',\n",
       "       '  100647.45', '   72765.27'], dtype=object)"
      ]
     },
     "execution_count": 121,
     "metadata": {},
     "output_type": "execute_result"
    }
   ],
   "source": [
    "test[\"renta\"].unique()"
   ]
  },
  {
   "cell_type": "code",
   "execution_count": 122,
   "metadata": {
    "ExecuteTime": {
     "end_time": "2020-07-10T02:33:40.615596Z",
     "start_time": "2020-07-10T02:33:40.322311Z"
    }
   },
   "outputs": [],
   "source": [
    "test[\"renta\"] = pd.to_numeric(test[\"renta\"], errors = \"coerce\")"
   ]
  },
  {
   "cell_type": "code",
   "execution_count": 123,
   "metadata": {
    "ExecuteTime": {
     "end_time": "2020-07-10T02:33:56.137975Z",
     "start_time": "2020-07-10T02:33:55.295229Z"
    }
   },
   "outputs": [
    {
     "name": "stdout",
     "output_type": "stream",
     "text": [
      "False\n"
     ]
    }
   ],
   "source": [
    "for code in test[\"cod_prov\"].unique() :\n",
    "#     print(code)\n",
    "    \n",
    "    renta_mean = test[test[\"cod_prov\"] == code][\"renta\"].mean()\n",
    "    \n",
    "    test.loc[(test[\"renta\"].isnull()) & (test[\"cod_prov\"] == code), \"renta\"] = renta_mean\n",
    "    \n",
    "print(test[\"renta\"].isnull().any())"
   ]
  },
  {
   "cell_type": "code",
   "execution_count": 105,
   "metadata": {
    "ExecuteTime": {
     "end_time": "2020-07-10T02:27:37.615728Z",
     "start_time": "2020-07-10T02:27:37.185903Z"
    }
   },
   "outputs": [
    {
     "data": {
      "text/plain": [
       "array(['02 - PARTICULARES', '03 - UNIVERSITARIO', nan, '01 - TOP'],\n",
       "      dtype=object)"
      ]
     },
     "execution_count": 105,
     "metadata": {},
     "output_type": "execute_result"
    }
   ],
   "source": [
    "train[\"segmento\"].unique()"
   ]
  },
  {
   "cell_type": "code",
   "execution_count": 106,
   "metadata": {
    "ExecuteTime": {
     "end_time": "2020-07-10T02:27:42.190640Z",
     "start_time": "2020-07-10T02:27:41.378698Z"
    }
   },
   "outputs": [
    {
     "data": {
      "text/plain": [
       "02 - PARTICULARES     7960220\n",
       "03 - UNIVERSITARIO    4935579\n",
       "01 - TOP               562142\n",
       "Name: segmento, dtype: int64"
      ]
     },
     "execution_count": 106,
     "metadata": {},
     "output_type": "execute_result"
    }
   ],
   "source": [
    "train[\"segmento\"].value_counts()"
   ]
  },
  {
   "cell_type": "code",
   "execution_count": 108,
   "metadata": {
    "ExecuteTime": {
     "end_time": "2020-07-10T02:27:50.427621Z",
     "start_time": "2020-07-10T02:27:50.394704Z"
    }
   },
   "outputs": [
    {
     "data": {
      "text/plain": [
       "array(['01 - TOP', '02 - PARTICULARES', '03 - UNIVERSITARIO', nan],\n",
       "      dtype=object)"
      ]
     },
     "execution_count": 108,
     "metadata": {},
     "output_type": "execute_result"
    }
   ],
   "source": [
    "test[\"segmento\"].unique()"
   ]
  },
  {
   "cell_type": "code",
   "execution_count": 109,
   "metadata": {
    "ExecuteTime": {
     "end_time": "2020-07-10T02:27:54.181603Z",
     "start_time": "2020-07-10T02:27:54.119741Z"
    }
   },
   "outputs": [
    {
     "data": {
      "text/plain": [
       "02 - PARTICULARES     545378\n",
       "03 - UNIVERSITARIO    346028\n",
       "01 - TOP               35961\n",
       "Name: segmento, dtype: int64"
      ]
     },
     "execution_count": 109,
     "metadata": {},
     "output_type": "execute_result"
    }
   ],
   "source": [
    "test[\"segmento\"].value_counts()"
   ]
  },
  {
   "cell_type": "code",
   "execution_count": 107,
   "metadata": {
    "ExecuteTime": {
     "end_time": "2020-07-10T02:27:46.670664Z",
     "start_time": "2020-07-10T02:27:45.992521Z"
    }
   },
   "outputs": [
    {
     "name": "stdout",
     "output_type": "stream",
     "text": [
      "False\n"
     ]
    }
   ],
   "source": [
    "train[\"segmento\"].fillna(value = \"02 - PARTICULARES\", inplace = True)\n",
    "print(train[\"segmento\"].isnull().any())"
   ]
  },
  {
   "cell_type": "code",
   "execution_count": 110,
   "metadata": {
    "ExecuteTime": {
     "end_time": "2020-07-10T02:28:15.571345Z",
     "start_time": "2020-07-10T02:28:15.518495Z"
    }
   },
   "outputs": [
    {
     "name": "stdout",
     "output_type": "stream",
     "text": [
      "False\n"
     ]
    }
   ],
   "source": [
    "test[\"segmento\"].fillna(value = \"02 - PARTICULARES\", inplace = True)\n",
    "print(test[\"segmento\"].isnull().any())"
   ]
  },
  {
   "cell_type": "code",
   "execution_count": 111,
   "metadata": {
    "ExecuteTime": {
     "end_time": "2020-07-10T02:28:28.129555Z",
     "start_time": "2020-07-10T02:28:28.045806Z"
    }
   },
   "outputs": [
    {
     "data": {
      "text/plain": [
       "array([ 0.,  1., nan])"
      ]
     },
     "execution_count": 111,
     "metadata": {},
     "output_type": "execute_result"
    }
   ],
   "source": [
    "train[\"ind_nomina_ult1\"].unique()"
   ]
  },
  {
   "cell_type": "code",
   "execution_count": 112,
   "metadata": {
    "ExecuteTime": {
     "end_time": "2020-07-10T02:28:31.967483Z",
     "start_time": "2020-07-10T02:28:31.835835Z"
    }
   },
   "outputs": [
    {
     "data": {
      "text/plain": [
       "0.0    12885285\n",
       "1.0      745961\n",
       "Name: ind_nomina_ult1, dtype: int64"
      ]
     },
     "execution_count": 112,
     "metadata": {},
     "output_type": "execute_result"
    }
   ],
   "source": [
    "train[\"ind_nomina_ult1\"].value_counts()"
   ]
  },
  {
   "cell_type": "code",
   "execution_count": 113,
   "metadata": {
    "ExecuteTime": {
     "end_time": "2020-07-10T02:28:35.727522Z",
     "start_time": "2020-07-10T02:28:35.685634Z"
    }
   },
   "outputs": [
    {
     "name": "stdout",
     "output_type": "stream",
     "text": [
      "False\n"
     ]
    }
   ],
   "source": [
    "train[\"ind_nomina_ult1\"].fillna(value = 0, inplace = True)\n",
    "print(train[\"ind_nomina_ult1\"].isnull().any())"
   ]
  },
  {
   "cell_type": "code",
   "execution_count": 114,
   "metadata": {
    "ExecuteTime": {
     "end_time": "2020-07-10T02:28:39.498125Z",
     "start_time": "2020-07-10T02:28:39.420312Z"
    }
   },
   "outputs": [
    {
     "data": {
      "text/plain": [
       "array([ 0.,  1., nan])"
      ]
     },
     "execution_count": 114,
     "metadata": {},
     "output_type": "execute_result"
    }
   ],
   "source": [
    "train[\"ind_nom_pens_ult1\"].unique()"
   ]
  },
  {
   "cell_type": "code",
   "execution_count": 115,
   "metadata": {
    "ExecuteTime": {
     "end_time": "2020-07-10T02:28:43.336863Z",
     "start_time": "2020-07-10T02:28:43.204192Z"
    }
   },
   "outputs": [
    {
     "data": {
      "text/plain": [
       "0.0    12821161\n",
       "1.0      810085\n",
       "Name: ind_nom_pens_ult1, dtype: int64"
      ]
     },
     "execution_count": 115,
     "metadata": {},
     "output_type": "execute_result"
    }
   ],
   "source": [
    "train[\"ind_nom_pens_ult1\"].value_counts()"
   ]
  },
  {
   "cell_type": "code",
   "execution_count": 116,
   "metadata": {
    "ExecuteTime": {
     "end_time": "2020-07-10T02:28:47.073870Z",
     "start_time": "2020-07-10T02:28:47.032961Z"
    }
   },
   "outputs": [
    {
     "name": "stdout",
     "output_type": "stream",
     "text": [
      "False\n"
     ]
    }
   ],
   "source": [
    "train[\"ind_nom_pens_ult1\"].fillna(value = 0, inplace = True)\n",
    "print(train[\"ind_nom_pens_ult1\"].isnull().any())"
   ]
  },
  {
   "cell_type": "code",
   "execution_count": 125,
   "metadata": {
    "ExecuteTime": {
     "end_time": "2020-07-10T05:11:30.212551Z",
     "start_time": "2020-07-10T05:11:30.208562Z"
    }
   },
   "outputs": [
    {
     "data": {
      "text/plain": [
       "Index(['fecha_dato', 'ncodpers', 'ind_empleado', 'pais_residencia', 'sexo',\n",
       "       'age', 'fecha_alta', 'ind_nuevo', 'antiguedad', 'indrel', 'indrel_1mes',\n",
       "       'tiprel_1mes', 'indresi', 'indext', 'canal_entrada', 'indfall',\n",
       "       'cod_prov', 'nomprov', 'ind_actividad_cliente', 'renta', 'segmento',\n",
       "       'ind_ahor_fin_ult1', 'ind_aval_fin_ult1', 'ind_cco_fin_ult1',\n",
       "       'ind_cder_fin_ult1', 'ind_cno_fin_ult1', 'ind_ctju_fin_ult1',\n",
       "       'ind_ctma_fin_ult1', 'ind_ctop_fin_ult1', 'ind_ctpp_fin_ult1',\n",
       "       'ind_deco_fin_ult1', 'ind_deme_fin_ult1', 'ind_dela_fin_ult1',\n",
       "       'ind_ecue_fin_ult1', 'ind_fond_fin_ult1', 'ind_hip_fin_ult1',\n",
       "       'ind_plan_fin_ult1', 'ind_pres_fin_ult1', 'ind_reca_fin_ult1',\n",
       "       'ind_tjcr_fin_ult1', 'ind_valo_fin_ult1', 'ind_viv_fin_ult1',\n",
       "       'ind_nomina_ult1', 'ind_nom_pens_ult1', 'ind_recibo_ult1'],\n",
       "      dtype='object')"
      ]
     },
     "execution_count": 125,
     "metadata": {},
     "output_type": "execute_result"
    }
   ],
   "source": [
    "train.columns"
   ]
  },
  {
   "cell_type": "code",
   "execution_count": null,
   "metadata": {},
   "outputs": [],
   "source": [
    "# 나이, renta 같은 연속적인 수로 이뤄진 column을 categorical로 만들어준다.. 일정범위로 "
   ]
  },
  {
   "cell_type": "code",
   "execution_count": 136,
   "metadata": {
    "ExecuteTime": {
     "end_time": "2020-07-10T07:22:05.592612Z",
     "start_time": "2020-07-10T07:22:05.564686Z"
    }
   },
   "outputs": [],
   "source": [
    "train[\"ageband\"] = pd.cut(train[\"age\"], bins = range(0, 101, 10), right = False, labels = range(0, 10))\n",
    "train[\"ageband\"] = train[\"ageband\"].cat.add_categories(10)\n",
    "train[\"ageband\"].fillna(value = 10, inplace = True)"
   ]
  },
  {
   "cell_type": "code",
   "execution_count": 137,
   "metadata": {
    "ExecuteTime": {
     "end_time": "2020-07-10T07:22:09.346366Z",
     "start_time": "2020-07-10T07:22:09.329412Z"
    }
   },
   "outputs": [
    {
     "data": {
      "text/plain": [
       "False"
      ]
     },
     "execution_count": 137,
     "metadata": {},
     "output_type": "execute_result"
    }
   ],
   "source": [
    "train[\"ageband\"].isnull().any()"
   ]
  },
  {
   "cell_type": "code",
   "execution_count": 139,
   "metadata": {
    "ExecuteTime": {
     "end_time": "2020-07-10T07:23:03.728840Z",
     "start_time": "2020-07-10T07:23:03.565299Z"
    }
   },
   "outputs": [
    {
     "data": {
      "text/plain": [
       "(1202.73, 28894395.51)"
      ]
     },
     "execution_count": 139,
     "metadata": {},
     "output_type": "execute_result"
    }
   ],
   "source": [
    "train[\"renta\"].min(), train[\"renta\"].max()"
   ]
  },
  {
   "cell_type": "code",
   "execution_count": null,
   "metadata": {},
   "outputs": [],
   "source": [
    "train[\"rentaband\"] = pd.cut(train[\"renta\"], bins = range(0, 101, 10), right = False, labels = range(0, 10))\n",
    "train[\"rentaband\"] = train[\"rentaband\"].cat.add_categories(10)\n",
    "train[\"rentaband\"].fillna(value = 10, inplace = True)"
   ]
  },
  {
   "cell_type": "code",
   "execution_count": 144,
   "metadata": {
    "ExecuteTime": {
     "end_time": "2020-07-10T07:35:47.243964Z",
     "start_time": "2020-07-10T07:35:47.007596Z"
    }
   },
   "outputs": [
    {
     "data": {
      "text/plain": [
       "0           [5000, 1000000)\n",
       "1           [5000, 1000000)\n",
       "2           [5000, 1000000)\n",
       "3           [5000, 1000000)\n",
       "4           [5000, 1000000)\n",
       "                 ...       \n",
       "13647304    [5000, 1000000)\n",
       "13647305    [5000, 1000000)\n",
       "13647306    [5000, 1000000)\n",
       "13647307    [5000, 1000000)\n",
       "13647308    [5000, 1000000)\n",
       "Name: renta, Length: 13647309, dtype: category\n",
       "Categories (2, interval[int64]): [[0, 5000) < [5000, 1000000)]"
      ]
     },
     "execution_count": 144,
     "metadata": {},
     "output_type": "execute_result"
    }
   ],
   "source": [
    "pd.cut(train[\"renta\"], bins = [0, 5000, 1000000], right = False)"
   ]
  },
  {
   "cell_type": "code",
   "execution_count": 143,
   "metadata": {
    "ExecuteTime": {
     "end_time": "2020-07-10T07:35:15.207125Z",
     "start_time": "2020-07-10T07:35:15.203135Z"
    }
   },
   "outputs": [
    {
     "data": {
      "text/plain": [
       "[0, 10, 20, 30, 40, 50, 60, 70, 80, 90, 100]"
      ]
     },
     "execution_count": 143,
     "metadata": {},
     "output_type": "execute_result"
    }
   ],
   "source": [
    "list(range(0, 101, 10))"
   ]
  },
  {
   "cell_type": "code",
   "execution_count": null,
   "metadata": {},
   "outputs": [],
   "source": []
  },
  {
   "cell_type": "code",
   "execution_count": null,
   "metadata": {},
   "outputs": [],
   "source": []
  },
  {
   "cell_type": "code",
   "execution_count": null,
   "metadata": {},
   "outputs": [],
   "source": []
  }
 ],
 "metadata": {
  "kernelspec": {
   "display_name": "Python 3",
   "language": "python",
   "name": "python3"
  },
  "language_info": {
   "codemirror_mode": {
    "name": "ipython",
    "version": 3
   },
   "file_extension": ".py",
   "mimetype": "text/x-python",
   "name": "python",
   "nbconvert_exporter": "python",
   "pygments_lexer": "ipython3",
   "version": "3.7.6"
  },
  "toc": {
   "base_numbering": 1,
   "nav_menu": {},
   "number_sections": true,
   "sideBar": true,
   "skip_h1_title": false,
   "title_cell": "Table of Contents",
   "title_sidebar": "Contents",
   "toc_cell": false,
   "toc_position": {},
   "toc_section_display": true,
   "toc_window_display": false
  },
  "varInspector": {
   "cols": {
    "lenName": 16,
    "lenType": 16,
    "lenVar": 40
   },
   "kernels_config": {
    "python": {
     "delete_cmd_postfix": "",
     "delete_cmd_prefix": "del ",
     "library": "var_list.py",
     "varRefreshCmd": "print(var_dic_list())"
    },
    "r": {
     "delete_cmd_postfix": ") ",
     "delete_cmd_prefix": "rm(",
     "library": "var_list.r",
     "varRefreshCmd": "cat(var_dic_list()) "
    }
   },
   "types_to_exclude": [
    "module",
    "function",
    "builtin_function_or_method",
    "instance",
    "_Feature"
   ],
   "window_display": false
  }
 },
 "nbformat": 4,
 "nbformat_minor": 4
}
