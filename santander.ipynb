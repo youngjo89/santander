{
 "cells": [
  {
   "cell_type": "code",
   "execution_count": null,
   "metadata": {},
   "outputs": [],
   "source": [
    "# https://www.kaggle.com/c/santander-product-recommendation/overview"
   ]
  },
  {
   "cell_type": "code",
   "execution_count": 2,
   "metadata": {
    "ExecuteTime": {
     "end_time": "2020-07-07T02:08:24.244087Z",
     "start_time": "2020-07-07T02:08:23.652446Z"
    }
   },
   "outputs": [],
   "source": [
    "import pandas as pd\n",
    "\n",
    "import matplotlib.pyplot as plt\n",
    "import seaborn as sns"
   ]
  },
  {
   "cell_type": "code",
   "execution_count": 3,
   "metadata": {
    "ExecuteTime": {
     "end_time": "2020-07-07T02:08:52.276286Z",
     "start_time": "2020-07-07T02:08:24.253065Z"
    }
   },
   "outputs": [
    {
     "name": "stderr",
     "output_type": "stream",
     "text": [
      "c:\\users\\administrator\\basic\\lib\\site-packages\\IPython\\core\\interactiveshell.py:3063: DtypeWarning: Columns (5,8,11,15) have mixed types.Specify dtype option on import or set low_memory=False.\n",
      "  interactivity=interactivity, compiler=compiler, result=result)\n",
      "c:\\users\\administrator\\basic\\lib\\site-packages\\IPython\\core\\interactiveshell.py:3063: DtypeWarning: Columns (15) have mixed types.Specify dtype option on import or set low_memory=False.\n",
      "  interactivity=interactivity, compiler=compiler, result=result)\n"
     ]
    }
   ],
   "source": [
    "train = pd.read_csv(\"./train.csv\")\n",
    "test = pd.read_csv(\"./test.csv\")\n",
    "sample_submission = pd.read_csv(\"./sample_submission.csv\")"
   ]
  },
  {
   "cell_type": "code",
   "execution_count": 4,
   "metadata": {
    "ExecuteTime": {
     "end_time": "2020-07-07T02:08:57.604019Z",
     "start_time": "2020-07-07T02:08:57.596039Z"
    }
   },
   "outputs": [
    {
     "data": {
      "text/html": [
       "<div>\n",
       "<style scoped>\n",
       "    .dataframe tbody tr th:only-of-type {\n",
       "        vertical-align: middle;\n",
       "    }\n",
       "\n",
       "    .dataframe tbody tr th {\n",
       "        vertical-align: top;\n",
       "    }\n",
       "\n",
       "    .dataframe thead th {\n",
       "        text-align: right;\n",
       "    }\n",
       "</style>\n",
       "<table border=\"1\" class=\"dataframe\">\n",
       "  <thead>\n",
       "    <tr style=\"text-align: right;\">\n",
       "      <th></th>\n",
       "      <th>ncodpers</th>\n",
       "      <th>added_products</th>\n",
       "    </tr>\n",
       "  </thead>\n",
       "  <tbody>\n",
       "    <tr>\n",
       "      <th>929610</th>\n",
       "      <td>1553685</td>\n",
       "      <td>ind_tjcr_fin_ult1</td>\n",
       "    </tr>\n",
       "    <tr>\n",
       "      <th>929611</th>\n",
       "      <td>1553686</td>\n",
       "      <td>ind_tjcr_fin_ult1</td>\n",
       "    </tr>\n",
       "    <tr>\n",
       "      <th>929612</th>\n",
       "      <td>1553687</td>\n",
       "      <td>ind_tjcr_fin_ult1</td>\n",
       "    </tr>\n",
       "    <tr>\n",
       "      <th>929613</th>\n",
       "      <td>1553688</td>\n",
       "      <td>ind_tjcr_fin_ult1</td>\n",
       "    </tr>\n",
       "    <tr>\n",
       "      <th>929614</th>\n",
       "      <td>1553689</td>\n",
       "      <td>ind_tjcr_fin_ult1</td>\n",
       "    </tr>\n",
       "  </tbody>\n",
       "</table>\n",
       "</div>"
      ],
      "text/plain": [
       "        ncodpers     added_products\n",
       "929610   1553685  ind_tjcr_fin_ult1\n",
       "929611   1553686  ind_tjcr_fin_ult1\n",
       "929612   1553687  ind_tjcr_fin_ult1\n",
       "929613   1553688  ind_tjcr_fin_ult1\n",
       "929614   1553689  ind_tjcr_fin_ult1"
      ]
     },
     "execution_count": 4,
     "metadata": {},
     "output_type": "execute_result"
    }
   ],
   "source": [
    "sample_submission.tail()"
   ]
  },
  {
   "cell_type": "code",
   "execution_count": 12,
   "metadata": {
    "ExecuteTime": {
     "end_time": "2020-07-07T02:24:59.013232Z",
     "start_time": "2020-07-07T02:24:58.995277Z"
    }
   },
   "outputs": [
    {
     "data": {
      "text/html": [
       "<div>\n",
       "<style scoped>\n",
       "    .dataframe tbody tr th:only-of-type {\n",
       "        vertical-align: middle;\n",
       "    }\n",
       "\n",
       "    .dataframe tbody tr th {\n",
       "        vertical-align: top;\n",
       "    }\n",
       "\n",
       "    .dataframe thead th {\n",
       "        text-align: right;\n",
       "    }\n",
       "</style>\n",
       "<table border=\"1\" class=\"dataframe\">\n",
       "  <thead>\n",
       "    <tr style=\"text-align: right;\">\n",
       "      <th></th>\n",
       "      <th>fecha_dato</th>\n",
       "      <th>ncodpers</th>\n",
       "      <th>ind_empleado</th>\n",
       "      <th>pais_residencia</th>\n",
       "      <th>sexo</th>\n",
       "      <th>age</th>\n",
       "      <th>fecha_alta</th>\n",
       "      <th>ind_nuevo</th>\n",
       "      <th>antiguedad</th>\n",
       "      <th>indrel</th>\n",
       "      <th>...</th>\n",
       "      <th>ind_hip_fin_ult1</th>\n",
       "      <th>ind_plan_fin_ult1</th>\n",
       "      <th>ind_pres_fin_ult1</th>\n",
       "      <th>ind_reca_fin_ult1</th>\n",
       "      <th>ind_tjcr_fin_ult1</th>\n",
       "      <th>ind_valo_fin_ult1</th>\n",
       "      <th>ind_viv_fin_ult1</th>\n",
       "      <th>ind_nomina_ult1</th>\n",
       "      <th>ind_nom_pens_ult1</th>\n",
       "      <th>ind_recibo_ult1</th>\n",
       "    </tr>\n",
       "  </thead>\n",
       "  <tbody>\n",
       "    <tr>\n",
       "      <th>13647304</th>\n",
       "      <td>2016-05-28</td>\n",
       "      <td>1166765</td>\n",
       "      <td>N</td>\n",
       "      <td>ES</td>\n",
       "      <td>V</td>\n",
       "      <td>22</td>\n",
       "      <td>2013-08-14</td>\n",
       "      <td>0.0</td>\n",
       "      <td>33</td>\n",
       "      <td>1.0</td>\n",
       "      <td>...</td>\n",
       "      <td>0</td>\n",
       "      <td>0</td>\n",
       "      <td>0</td>\n",
       "      <td>0</td>\n",
       "      <td>0</td>\n",
       "      <td>0</td>\n",
       "      <td>0</td>\n",
       "      <td>0.0</td>\n",
       "      <td>0.0</td>\n",
       "      <td>0</td>\n",
       "    </tr>\n",
       "    <tr>\n",
       "      <th>13647305</th>\n",
       "      <td>2016-05-28</td>\n",
       "      <td>1166764</td>\n",
       "      <td>N</td>\n",
       "      <td>ES</td>\n",
       "      <td>V</td>\n",
       "      <td>23</td>\n",
       "      <td>2013-08-14</td>\n",
       "      <td>0.0</td>\n",
       "      <td>33</td>\n",
       "      <td>1.0</td>\n",
       "      <td>...</td>\n",
       "      <td>0</td>\n",
       "      <td>0</td>\n",
       "      <td>0</td>\n",
       "      <td>0</td>\n",
       "      <td>0</td>\n",
       "      <td>0</td>\n",
       "      <td>0</td>\n",
       "      <td>0.0</td>\n",
       "      <td>0.0</td>\n",
       "      <td>0</td>\n",
       "    </tr>\n",
       "    <tr>\n",
       "      <th>13647306</th>\n",
       "      <td>2016-05-28</td>\n",
       "      <td>1166763</td>\n",
       "      <td>N</td>\n",
       "      <td>ES</td>\n",
       "      <td>H</td>\n",
       "      <td>47</td>\n",
       "      <td>2013-08-14</td>\n",
       "      <td>0.0</td>\n",
       "      <td>33</td>\n",
       "      <td>1.0</td>\n",
       "      <td>...</td>\n",
       "      <td>0</td>\n",
       "      <td>0</td>\n",
       "      <td>0</td>\n",
       "      <td>0</td>\n",
       "      <td>0</td>\n",
       "      <td>0</td>\n",
       "      <td>0</td>\n",
       "      <td>0.0</td>\n",
       "      <td>0.0</td>\n",
       "      <td>0</td>\n",
       "    </tr>\n",
       "    <tr>\n",
       "      <th>13647307</th>\n",
       "      <td>2016-05-28</td>\n",
       "      <td>1166789</td>\n",
       "      <td>N</td>\n",
       "      <td>ES</td>\n",
       "      <td>H</td>\n",
       "      <td>22</td>\n",
       "      <td>2013-08-14</td>\n",
       "      <td>0.0</td>\n",
       "      <td>33</td>\n",
       "      <td>1.0</td>\n",
       "      <td>...</td>\n",
       "      <td>0</td>\n",
       "      <td>0</td>\n",
       "      <td>0</td>\n",
       "      <td>0</td>\n",
       "      <td>0</td>\n",
       "      <td>0</td>\n",
       "      <td>0</td>\n",
       "      <td>0.0</td>\n",
       "      <td>0.0</td>\n",
       "      <td>0</td>\n",
       "    </tr>\n",
       "    <tr>\n",
       "      <th>13647308</th>\n",
       "      <td>2016-05-28</td>\n",
       "      <td>1550586</td>\n",
       "      <td>N</td>\n",
       "      <td>ES</td>\n",
       "      <td>H</td>\n",
       "      <td>37</td>\n",
       "      <td>2016-05-13</td>\n",
       "      <td>1.0</td>\n",
       "      <td>0</td>\n",
       "      <td>1.0</td>\n",
       "      <td>...</td>\n",
       "      <td>0</td>\n",
       "      <td>0</td>\n",
       "      <td>0</td>\n",
       "      <td>0</td>\n",
       "      <td>0</td>\n",
       "      <td>0</td>\n",
       "      <td>0</td>\n",
       "      <td>0.0</td>\n",
       "      <td>0.0</td>\n",
       "      <td>0</td>\n",
       "    </tr>\n",
       "  </tbody>\n",
       "</table>\n",
       "<p>5 rows × 48 columns</p>\n",
       "</div>"
      ],
      "text/plain": [
       "          fecha_dato  ncodpers ind_empleado pais_residencia sexo age  \\\n",
       "13647304  2016-05-28   1166765            N              ES    V  22   \n",
       "13647305  2016-05-28   1166764            N              ES    V  23   \n",
       "13647306  2016-05-28   1166763            N              ES    H  47   \n",
       "13647307  2016-05-28   1166789            N              ES    H  22   \n",
       "13647308  2016-05-28   1550586            N              ES    H  37   \n",
       "\n",
       "          fecha_alta  ind_nuevo antiguedad  indrel  ... ind_hip_fin_ult1  \\\n",
       "13647304  2013-08-14        0.0         33     1.0  ...                0   \n",
       "13647305  2013-08-14        0.0         33     1.0  ...                0   \n",
       "13647306  2013-08-14        0.0         33     1.0  ...                0   \n",
       "13647307  2013-08-14        0.0         33     1.0  ...                0   \n",
       "13647308  2016-05-13        1.0          0     1.0  ...                0   \n",
       "\n",
       "         ind_plan_fin_ult1 ind_pres_fin_ult1 ind_reca_fin_ult1  \\\n",
       "13647304                 0                 0                 0   \n",
       "13647305                 0                 0                 0   \n",
       "13647306                 0                 0                 0   \n",
       "13647307                 0                 0                 0   \n",
       "13647308                 0                 0                 0   \n",
       "\n",
       "         ind_tjcr_fin_ult1 ind_valo_fin_ult1 ind_viv_fin_ult1 ind_nomina_ult1  \\\n",
       "13647304                 0                 0                0             0.0   \n",
       "13647305                 0                 0                0             0.0   \n",
       "13647306                 0                 0                0             0.0   \n",
       "13647307                 0                 0                0             0.0   \n",
       "13647308                 0                 0                0             0.0   \n",
       "\n",
       "          ind_nom_pens_ult1  ind_recibo_ult1  \n",
       "13647304                0.0                0  \n",
       "13647305                0.0                0  \n",
       "13647306                0.0                0  \n",
       "13647307                0.0                0  \n",
       "13647308                0.0                0  \n",
       "\n",
       "[5 rows x 48 columns]"
      ]
     },
     "execution_count": 12,
     "metadata": {},
     "output_type": "execute_result"
    }
   ],
   "source": [
    "train.tail()"
   ]
  },
  {
   "cell_type": "code",
   "execution_count": 13,
   "metadata": {
    "ExecuteTime": {
     "end_time": "2020-07-07T02:25:04.404494Z",
     "start_time": "2020-07-07T02:25:04.387540Z"
    }
   },
   "outputs": [
    {
     "data": {
      "text/html": [
       "<div>\n",
       "<style scoped>\n",
       "    .dataframe tbody tr th:only-of-type {\n",
       "        vertical-align: middle;\n",
       "    }\n",
       "\n",
       "    .dataframe tbody tr th {\n",
       "        vertical-align: top;\n",
       "    }\n",
       "\n",
       "    .dataframe thead th {\n",
       "        text-align: right;\n",
       "    }\n",
       "</style>\n",
       "<table border=\"1\" class=\"dataframe\">\n",
       "  <thead>\n",
       "    <tr style=\"text-align: right;\">\n",
       "      <th></th>\n",
       "      <th>fecha_dato</th>\n",
       "      <th>ncodpers</th>\n",
       "      <th>ind_empleado</th>\n",
       "      <th>pais_residencia</th>\n",
       "      <th>sexo</th>\n",
       "      <th>age</th>\n",
       "      <th>fecha_alta</th>\n",
       "      <th>ind_nuevo</th>\n",
       "      <th>antiguedad</th>\n",
       "      <th>indrel</th>\n",
       "      <th>...</th>\n",
       "      <th>indext</th>\n",
       "      <th>conyuemp</th>\n",
       "      <th>canal_entrada</th>\n",
       "      <th>indfall</th>\n",
       "      <th>tipodom</th>\n",
       "      <th>cod_prov</th>\n",
       "      <th>nomprov</th>\n",
       "      <th>ind_actividad_cliente</th>\n",
       "      <th>renta</th>\n",
       "      <th>segmento</th>\n",
       "    </tr>\n",
       "  </thead>\n",
       "  <tbody>\n",
       "    <tr>\n",
       "      <th>929610</th>\n",
       "      <td>2016-06-28</td>\n",
       "      <td>660237</td>\n",
       "      <td>N</td>\n",
       "      <td>ES</td>\n",
       "      <td>V</td>\n",
       "      <td>55</td>\n",
       "      <td>1999-04-21</td>\n",
       "      <td>0</td>\n",
       "      <td>206</td>\n",
       "      <td>1</td>\n",
       "      <td>...</td>\n",
       "      <td>N</td>\n",
       "      <td>NaN</td>\n",
       "      <td>KAT</td>\n",
       "      <td>N</td>\n",
       "      <td>1</td>\n",
       "      <td>28.0</td>\n",
       "      <td>MADRID</td>\n",
       "      <td>1</td>\n",
       "      <td>128643.57</td>\n",
       "      <td>01 - TOP</td>\n",
       "    </tr>\n",
       "    <tr>\n",
       "      <th>929611</th>\n",
       "      <td>2016-06-28</td>\n",
       "      <td>660238</td>\n",
       "      <td>N</td>\n",
       "      <td>ES</td>\n",
       "      <td>V</td>\n",
       "      <td>30</td>\n",
       "      <td>2006-11-29</td>\n",
       "      <td>0</td>\n",
       "      <td>115</td>\n",
       "      <td>1</td>\n",
       "      <td>...</td>\n",
       "      <td>N</td>\n",
       "      <td>NaN</td>\n",
       "      <td>KFC</td>\n",
       "      <td>N</td>\n",
       "      <td>1</td>\n",
       "      <td>26.0</td>\n",
       "      <td>RIOJA, LA</td>\n",
       "      <td>0</td>\n",
       "      <td>NA</td>\n",
       "      <td>02 - PARTICULARES</td>\n",
       "    </tr>\n",
       "    <tr>\n",
       "      <th>929612</th>\n",
       "      <td>2016-06-28</td>\n",
       "      <td>660240</td>\n",
       "      <td>N</td>\n",
       "      <td>ES</td>\n",
       "      <td>V</td>\n",
       "      <td>52</td>\n",
       "      <td>2006-11-29</td>\n",
       "      <td>0</td>\n",
       "      <td>115</td>\n",
       "      <td>1</td>\n",
       "      <td>...</td>\n",
       "      <td>N</td>\n",
       "      <td>NaN</td>\n",
       "      <td>KBZ</td>\n",
       "      <td>N</td>\n",
       "      <td>1</td>\n",
       "      <td>33.0</td>\n",
       "      <td>ASTURIAS</td>\n",
       "      <td>1</td>\n",
       "      <td>72765.27</td>\n",
       "      <td>02 - PARTICULARES</td>\n",
       "    </tr>\n",
       "    <tr>\n",
       "      <th>929613</th>\n",
       "      <td>2016-06-28</td>\n",
       "      <td>660243</td>\n",
       "      <td>N</td>\n",
       "      <td>ES</td>\n",
       "      <td>V</td>\n",
       "      <td>32</td>\n",
       "      <td>2006-11-29</td>\n",
       "      <td>0</td>\n",
       "      <td>115</td>\n",
       "      <td>1</td>\n",
       "      <td>...</td>\n",
       "      <td>N</td>\n",
       "      <td>NaN</td>\n",
       "      <td>KFC</td>\n",
       "      <td>N</td>\n",
       "      <td>1</td>\n",
       "      <td>33.0</td>\n",
       "      <td>ASTURIAS</td>\n",
       "      <td>0</td>\n",
       "      <td>147488.88</td>\n",
       "      <td>02 - PARTICULARES</td>\n",
       "    </tr>\n",
       "    <tr>\n",
       "      <th>929614</th>\n",
       "      <td>2016-06-28</td>\n",
       "      <td>660248</td>\n",
       "      <td>N</td>\n",
       "      <td>ES</td>\n",
       "      <td>V</td>\n",
       "      <td>92</td>\n",
       "      <td>2006-11-29</td>\n",
       "      <td>0</td>\n",
       "      <td>115</td>\n",
       "      <td>1</td>\n",
       "      <td>...</td>\n",
       "      <td>N</td>\n",
       "      <td>NaN</td>\n",
       "      <td>KAT</td>\n",
       "      <td>N</td>\n",
       "      <td>1</td>\n",
       "      <td>45.0</td>\n",
       "      <td>TOLEDO</td>\n",
       "      <td>0</td>\n",
       "      <td>NA</td>\n",
       "      <td>02 - PARTICULARES</td>\n",
       "    </tr>\n",
       "  </tbody>\n",
       "</table>\n",
       "<p>5 rows × 24 columns</p>\n",
       "</div>"
      ],
      "text/plain": [
       "        fecha_dato  ncodpers ind_empleado pais_residencia sexo  age  \\\n",
       "929610  2016-06-28    660237            N              ES    V   55   \n",
       "929611  2016-06-28    660238            N              ES    V   30   \n",
       "929612  2016-06-28    660240            N              ES    V   52   \n",
       "929613  2016-06-28    660243            N              ES    V   32   \n",
       "929614  2016-06-28    660248            N              ES    V   92   \n",
       "\n",
       "        fecha_alta  ind_nuevo  antiguedad  indrel  ... indext  conyuemp  \\\n",
       "929610  1999-04-21          0         206       1  ...      N       NaN   \n",
       "929611  2006-11-29          0         115       1  ...      N       NaN   \n",
       "929612  2006-11-29          0         115       1  ...      N       NaN   \n",
       "929613  2006-11-29          0         115       1  ...      N       NaN   \n",
       "929614  2006-11-29          0         115       1  ...      N       NaN   \n",
       "\n",
       "       canal_entrada indfall tipodom cod_prov    nomprov  \\\n",
       "929610           KAT       N       1     28.0     MADRID   \n",
       "929611           KFC       N       1     26.0  RIOJA, LA   \n",
       "929612           KBZ       N       1     33.0   ASTURIAS   \n",
       "929613           KFC       N       1     33.0   ASTURIAS   \n",
       "929614           KAT       N       1     45.0     TOLEDO   \n",
       "\n",
       "       ind_actividad_cliente        renta           segmento  \n",
       "929610                     1    128643.57           01 - TOP  \n",
       "929611                     0           NA  02 - PARTICULARES  \n",
       "929612                     1     72765.27  02 - PARTICULARES  \n",
       "929613                     0    147488.88  02 - PARTICULARES  \n",
       "929614                     0           NA  02 - PARTICULARES  \n",
       "\n",
       "[5 rows x 24 columns]"
      ]
     },
     "execution_count": 13,
     "metadata": {},
     "output_type": "execute_result"
    }
   ],
   "source": [
    "test.tail()"
   ]
  },
  {
   "cell_type": "markdown",
   "metadata": {},
   "source": [
    "#### column descriptions\n",
    "\n",
    "- fecha_dato : the table is partitioned for this column(해당 데이터를 만든? 날짜라고 생각하면 될듯..)\n",
    "\n",
    "\n",
    "- ncodpers : customer code (고객 코드, 코드-고객 1:1매칭.. 중복되는 코드가 있을 수 있다)\n",
    "\n",
    "\n",
    "- ind_empleado : employee index (A active, B ex employed, F filial, N not employee, P pasive)\n",
    "\n",
    "\n",
    "- pais_residencia : customer's country residence (고객 국적)\n",
    "\n",
    "\n",
    "- sexo : customers's sex(고객 성별)\n",
    "\n",
    "\n",
    "- age : age(고객 나이)\n",
    "\n",
    "\n",
    "-  fecha_alta : the date in which the customer became as the first holder of a contract in the bank\n",
    "(계약 시작 날짜로 생각하면 될듯)\n",
    "\n",
    "\n",
    "- ind_nuevo : new customer index. 1 if the customer registered in the last 6 months(최근 6개월 내 계약한 고객)\n",
    "\n",
    "\n",
    "- antiguedad : customer seniority(in months) fecha_alta와 fecha_dato사이 간격(개월 수)\n",
    "\n",
    "\n",
    "- indrel : 1(First/primary), 99(primary customer during the month but not at the end of the month)\n",
    "\n",
    "\n",
    "- ult_fec_cli_1t : last date as primary customer(if he isn't at the end of the month)\n",
    "\n",
    "\n",
    "- indrel_1mes : customer type at the beginning of the month, 1 (First/Primary customer), 2 (co-owner),P (Potential),3 (former primary), 4(former co-owner)\n",
    "\n",
    "\n",
    "- tiprel_1mes : customer relation type at the beginning of the month.  A (active), I (inactive), P (former customer),R (Potential)\n",
    "\n",
    "\n",
    "- indresi : residence index (S (Yes) or N (No) if the residence country is the same than the bank country)\n",
    "\n",
    "\n",
    "- indext : Foreigner index (S (Yes) or N (No) if the customer's birth country is different than the bank country)\n",
    "\n",
    "\n",
    "- conyuemp : spouse index. 1 if the customer is spouse of an employee\n",
    "\n",
    "\n",
    "- canal_entrada : channel used by the customer to join\n",
    "\n",
    "\n",
    "- indfall : deceased index. N/S\n",
    "\n",
    "\n",
    "- tipodom : address type. 1, primary address\n",
    "\n",
    "\n",
    "- cod-prov : province cod(customer's address)\n",
    "\n",
    "\n",
    "- nomprov : province name\n",
    "\n",
    "\n",
    "- ind_actividad_cliente : activity index(1 : active customer, 0 : inactive customer)\n",
    "\n",
    "\n",
    "- renta : gross income of the household\n",
    "\n",
    "\n",
    "- segmento : segmentation: 01 - VIP, 02 - Individuals 03 - college graduated"
   ]
  },
  {
   "cell_type": "code",
   "execution_count": 34,
   "metadata": {
    "ExecuteTime": {
     "end_time": "2020-07-07T04:51:20.733683Z",
     "start_time": "2020-07-07T04:51:14.442482Z"
    }
   },
   "outputs": [
    {
     "data": {
      "text/plain": [
       "fecha_dato               13647309\n",
       "ncodpers                 13647309\n",
       "ind_empleado             13619575\n",
       "pais_residencia          13619575\n",
       "sexo                     13619505\n",
       "age                      13647309\n",
       "fecha_alta               13619575\n",
       "ind_nuevo                13619575\n",
       "antiguedad               13647309\n",
       "indrel                   13619575\n",
       "ult_fec_cli_1t              24793\n",
       "indrel_1mes              13497528\n",
       "tiprel_1mes              13497528\n",
       "indresi                  13619575\n",
       "indext                   13619575\n",
       "conyuemp                     1808\n",
       "canal_entrada            13461183\n",
       "indfall                  13619575\n",
       "tipodom                  13619574\n",
       "cod_prov                 13553718\n",
       "nomprov                  13553718\n",
       "ind_actividad_cliente    13619575\n",
       "renta                    10852934\n",
       "segmento                 13457941\n",
       "ind_ahor_fin_ult1        13647309\n",
       "ind_aval_fin_ult1        13647309\n",
       "ind_cco_fin_ult1         13647309\n",
       "ind_cder_fin_ult1        13647309\n",
       "ind_cno_fin_ult1         13647309\n",
       "ind_ctju_fin_ult1        13647309\n",
       "ind_ctma_fin_ult1        13647309\n",
       "ind_ctop_fin_ult1        13647309\n",
       "ind_ctpp_fin_ult1        13647309\n",
       "ind_deco_fin_ult1        13647309\n",
       "ind_deme_fin_ult1        13647309\n",
       "ind_dela_fin_ult1        13647309\n",
       "ind_ecue_fin_ult1        13647309\n",
       "ind_fond_fin_ult1        13647309\n",
       "ind_hip_fin_ult1         13647309\n",
       "ind_plan_fin_ult1        13647309\n",
       "ind_pres_fin_ult1        13647309\n",
       "ind_reca_fin_ult1        13647309\n",
       "ind_tjcr_fin_ult1        13647309\n",
       "ind_valo_fin_ult1        13647309\n",
       "ind_viv_fin_ult1         13647309\n",
       "ind_nomina_ult1          13631246\n",
       "ind_nom_pens_ult1        13631246\n",
       "ind_recibo_ult1          13647309\n",
       "dtype: int64"
      ]
     },
     "execution_count": 34,
     "metadata": {},
     "output_type": "execute_result"
    }
   ],
   "source": [
    "train.count()"
   ]
  },
  {
   "cell_type": "code",
   "execution_count": 16,
   "metadata": {
    "ExecuteTime": {
     "end_time": "2020-07-07T02:27:41.990113Z",
     "start_time": "2020-07-07T02:27:41.987100Z"
    }
   },
   "outputs": [],
   "source": [
    "# train data에서 product에 해당하는 column들.\n",
    "product_columns = train.columns[24:]\n",
    "\n",
    "# customer 특성에 해당하는 column들\n",
    "customer_columns = train.columns[:24]"
   ]
  },
  {
   "cell_type": "code",
   "execution_count": 21,
   "metadata": {
    "ExecuteTime": {
     "end_time": "2020-07-07T02:33:51.008546Z",
     "start_time": "2020-07-07T02:33:48.346634Z"
    },
    "scrolled": true
   },
   "outputs": [
    {
     "name": "stdout",
     "output_type": "stream",
     "text": [
      "0    13645913\n",
      "1        1396\n",
      "Name: ind_ahor_fin_ult1, dtype: int64\n",
      "\n",
      "0    13646993\n",
      "1         316\n",
      "Name: ind_aval_fin_ult1, dtype: int64\n",
      "\n",
      "1    8945588\n",
      "0    4701721\n",
      "Name: ind_cco_fin_ult1, dtype: int64\n",
      "\n",
      "0    13641933\n",
      "1        5376\n",
      "Name: ind_cder_fin_ult1, dtype: int64\n",
      "\n",
      "0    12543689\n",
      "1     1103620\n",
      "Name: ind_cno_fin_ult1, dtype: int64\n",
      "\n",
      "0    13518012\n",
      "1      129297\n",
      "Name: ind_ctju_fin_ult1, dtype: int64\n",
      "\n",
      "0    13514567\n",
      "1      132742\n",
      "Name: ind_ctma_fin_ult1, dtype: int64\n",
      "\n",
      "0    11886693\n",
      "1     1760616\n",
      "Name: ind_ctop_fin_ult1, dtype: int64\n",
      "\n",
      "0    13056301\n",
      "1      591008\n",
      "Name: ind_ctpp_fin_ult1, dtype: int64\n",
      "\n",
      "0    13623034\n",
      "1       24275\n",
      "Name: ind_deco_fin_ult1, dtype: int64\n",
      "\n",
      "0    13624641\n",
      "1       22668\n",
      "Name: ind_deme_fin_ult1, dtype: int64\n",
      "\n",
      "0    13060928\n",
      "1      586381\n",
      "Name: ind_dela_fin_ult1, dtype: int64\n",
      "\n",
      "0    12518082\n",
      "1     1129227\n",
      "Name: ind_ecue_fin_ult1, dtype: int64\n",
      "\n",
      "0    13395025\n",
      "1      252284\n",
      "Name: ind_fond_fin_ult1, dtype: int64\n",
      "\n",
      "0    13566973\n",
      "1       80336\n",
      "Name: ind_hip_fin_ult1, dtype: int64\n",
      "\n",
      "0    13522150\n",
      "1      125159\n",
      "Name: ind_plan_fin_ult1, dtype: int64\n",
      "\n",
      "0    13611452\n",
      "1       35857\n",
      "Name: ind_pres_fin_ult1, dtype: int64\n",
      "\n",
      "0    12930329\n",
      "1      716980\n",
      "Name: ind_reca_fin_ult1, dtype: int64\n",
      "\n",
      "0    13041523\n",
      "1      605786\n",
      "Name: ind_tjcr_fin_ult1, dtype: int64\n",
      "\n",
      "0    13297834\n",
      "1      349475\n",
      "Name: ind_valo_fin_ult1, dtype: int64\n",
      "\n",
      "0    13594798\n",
      "1       52511\n",
      "Name: ind_viv_fin_ult1, dtype: int64\n",
      "\n",
      "0.0    12885285\n",
      "1.0      745961\n",
      "Name: ind_nomina_ult1, dtype: int64\n",
      "\n",
      "0.0    12821161\n",
      "1.0      810085\n",
      "Name: ind_nom_pens_ult1, dtype: int64\n",
      "\n",
      "0    11901597\n",
      "1     1745712\n",
      "Name: ind_recibo_ult1, dtype: int64\n",
      "\n"
     ]
    }
   ],
   "source": [
    "for col in product_columns :\n",
    "    print(train[col].value_counts())\n",
    "    print()\n",
    "    \n",
    "# product와 관련된 상품들의 value는 모두 0 또는 1로 구성되어있음\n",
    "# 0인경우 해당 product가 없는(계약하지않은) 상태이고, 1인 경우 해당 product를 가진(계약한) 상태라고 추측 가능\n",
    "# binary 문제를 푸는 거라고 생각하면 조금 쉬워지는듯!"
   ]
  },
  {
   "cell_type": "code",
   "execution_count": 19,
   "metadata": {
    "ExecuteTime": {
     "end_time": "2020-07-07T02:28:34.781561Z",
     "start_time": "2020-07-07T02:28:34.171193Z"
    }
   },
   "outputs": [
    {
     "data": {
      "text/plain": [
       "32752      17\n",
       "1273696    17\n",
       "1224536    17\n",
       "1199940    17\n",
       "1208128    17\n",
       "           ..\n",
       "1549150     1\n",
       "1543059     1\n",
       "1535935     1\n",
       "1551255     1\n",
       "1489485     1\n",
       "Name: ncodpers, Length: 956645, dtype: int64"
      ]
     },
     "execution_count": 19,
     "metadata": {},
     "output_type": "execute_result"
    }
   ],
   "source": [
    "# 고객 code\n",
    "train[\"ncodpers\"].value_counts()\n",
    "\n",
    "# 956645명의 unique한 고객들이 있으며, 고객 기록은 1명당 1~17개"
   ]
  },
  {
   "cell_type": "code",
   "execution_count": 22,
   "metadata": {
    "ExecuteTime": {
     "end_time": "2020-07-07T02:41:53.674251Z",
     "start_time": "2020-07-07T02:41:53.003036Z"
    }
   },
   "outputs": [
    {
     "data": {
      "text/plain": [
       "N    13610977\n",
       "B        3566\n",
       "F        2523\n",
       "A        2492\n",
       "S          17\n",
       "Name: ind_empleado, dtype: int64"
      ]
     },
     "execution_count": 22,
     "metadata": {},
     "output_type": "execute_result"
    }
   ],
   "source": [
    "train[\"ind_empleado\"].value_counts()\n",
    "\n",
    "# 정확히 어떤 column인지는 알지 못하지만, 해당 product를 계약한 은행 직원의 고용상태로 추측함\n",
    "# A(active)는 현재도 일하고있는, B(ex employed)는 과거에 일했던.. 이런식으로"
   ]
  },
  {
   "cell_type": "code",
   "execution_count": 24,
   "metadata": {
    "ExecuteTime": {
     "end_time": "2020-07-07T04:03:34.115650Z",
     "start_time": "2020-07-07T04:03:33.334738Z"
    }
   },
   "outputs": [
    {
     "data": {
      "text/plain": [
       "ES    13553710\n",
       "FR        5161\n",
       "AR        4835\n",
       "DE        4625\n",
       "GB        4605\n",
       "        ...   \n",
       "JM          11\n",
       "ZW          11\n",
       "DJ          11\n",
       "BM           6\n",
       "MT           2\n",
       "Name: pais_residencia, Length: 118, dtype: int64"
      ]
     },
     "execution_count": 24,
     "metadata": {},
     "output_type": "execute_result"
    }
   ],
   "source": [
    "train[\"pais_residencia\"].value_counts()\n",
    "\n",
    "# 고객의 국적 ES가 제일많고 FR, AR...순"
   ]
  },
  {
   "cell_type": "code",
   "execution_count": 25,
   "metadata": {
    "ExecuteTime": {
     "end_time": "2020-07-07T04:04:08.255862Z",
     "start_time": "2020-07-07T04:04:07.593629Z"
    }
   },
   "outputs": [
    {
     "data": {
      "text/plain": [
       "V    7424252\n",
       "H    6195253\n",
       "Name: sexo, dtype: int64"
      ]
     },
     "execution_count": 25,
     "metadata": {},
     "output_type": "execute_result"
    }
   ],
   "source": [
    "train[\"sexo\"].value_counts()\n",
    "\n",
    "# 고객의 성별\n",
    "# 아마 남자가 H, 여자가 V인것으로 추정.. hombre.."
   ]
  },
  {
   "cell_type": "code",
   "execution_count": 28,
   "metadata": {
    "ExecuteTime": {
     "end_time": "2020-07-07T04:08:10.032084Z",
     "start_time": "2020-07-07T04:08:07.216613Z"
    }
   },
   "outputs": [
    {
     "data": {
      "image/png": "[encoded data removed]",
      "text/plain": [
       "<Figure size 720x576 with 1 Axes>"
      ]
     },
     "metadata": {
      "needs_background": "light"
     },
     "output_type": "display_data"
    }
   ],
   "source": [
    "plt.figure(figsize = (10, 8))\n",
    "sns.countplot(train[\"age\"])\n",
    "plt.show()"
   ]
  },
  {
   "cell_type": "code",
   "execution_count": 30,
   "metadata": {
    "ExecuteTime": {
     "end_time": "2020-07-07T04:08:53.317652Z",
     "start_time": "2020-07-07T04:08:52.617543Z"
    }
   },
   "outputs": [
    {
     "data": {
      "text/plain": [
       "23     542682\n",
       "24     527526\n",
       "22     524620\n",
       "21     500941\n",
       "20     370847\n",
       "        ...  \n",
       "116        12\n",
       "163         8\n",
       "127         8\n",
       "164         3\n",
       "126         3\n",
       "Name: age, Length: 235, dtype: int64"
      ]
     },
     "execution_count": 30,
     "metadata": {},
     "output_type": "execute_result"
    }
   ],
   "source": [
    "train[\"age\"].value_counts()\n",
    "\n",
    "# 고객들의 나이.. 100이 넘어가는건 무엇일까.."
   ]
  },
  {
   "cell_type": "code",
   "execution_count": 31,
   "metadata": {
    "ExecuteTime": {
     "end_time": "2020-07-07T04:44:02.289546Z",
     "start_time": "2020-07-07T04:44:01.448788Z"
    }
   },
   "outputs": [
    {
     "data": {
      "text/plain": [
       "2014-07-28    57389\n",
       "2014-10-03    54287\n",
       "2014-08-04    45746\n",
       "2013-10-14    40804\n",
       "2013-08-03    33414\n",
       "              ...  \n",
       "1995-04-29       11\n",
       "2015-05-31        9\n",
       "2014-05-01        7\n",
       "2010-07-04        4\n",
       "2009-12-25        4\n",
       "Name: fecha_alta, Length: 6756, dtype: int64"
      ]
     },
     "execution_count": 31,
     "metadata": {},
     "output_type": "execute_result"
    }
   ],
   "source": [
    "train[\"fecha_alta\"].value_counts()"
   ]
  },
  {
   "cell_type": "code",
   "execution_count": 32,
   "metadata": {
    "ExecuteTime": {
     "end_time": "2020-07-07T04:44:28.412197Z",
     "start_time": "2020-07-07T04:44:28.280549Z"
    }
   },
   "outputs": [
    {
     "data": {
      "text/plain": [
       "0.0    12808368\n",
       "1.0      811207\n",
       "Name: ind_nuevo, dtype: int64"
      ]
     },
     "execution_count": 32,
     "metadata": {},
     "output_type": "execute_result"
    }
   ],
   "source": [
    "train[\"ind_nuevo\"].value_counts()\n",
    "\n",
    "# 최근 6개월내에 등록된 고객은 1"
   ]
  },
  {
   "cell_type": "code",
   "execution_count": null,
   "metadata": {},
   "outputs": [],
   "source": []
  },
  {
   "cell_type": "code",
   "execution_count": null,
   "metadata": {},
   "outputs": [],
   "source": []
  }
 ],
 "metadata": {
  "kernelspec": {
   "display_name": "Python 3",
   "language": "python",
   "name": "python3"
  },
  "language_info": {
   "codemirror_mode": {
    "name": "ipython",
    "version": 3
   },
   "file_extension": ".py",
   "mimetype": "text/x-python",
   "name": "python",
   "nbconvert_exporter": "python",
   "pygments_lexer": "ipython3",
   "version": "3.7.6"
  },
  "toc": {
   "base_numbering": 1,
   "nav_menu": {},
   "number_sections": true,
   "sideBar": true,
   "skip_h1_title": false,
   "title_cell": "Table of Contents",
   "title_sidebar": "Contents",
   "toc_cell": false,
   "toc_position": {},
   "toc_section_display": true,
   "toc_window_display": false
  },
  "varInspector": {
   "cols": {
    "lenName": 16,
    "lenType": 16,
    "lenVar": 40
   },
   "kernels_config": {
    "python": {
     "delete_cmd_postfix": "",
     "delete_cmd_prefix": "del ",
     "library": "var_list.py",
     "varRefreshCmd": "print(var_dic_list())"
    },
    "r": {
     "delete_cmd_postfix": ") ",
     "delete_cmd_prefix": "rm(",
     "library": "var_list.r",
     "varRefreshCmd": "cat(var_dic_list()) "
    }
   },
   "types_to_exclude": [
    "module",
    "function",
    "builtin_function_or_method",
    "instance",
    "_Feature"
   ],
   "window_display": false
  }
 },
 "nbformat": 4,
 "nbformat_minor": 4
}
